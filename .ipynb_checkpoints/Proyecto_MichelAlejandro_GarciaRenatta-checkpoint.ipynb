{
 "cells": [
  {
   "cell_type": "code",
   "execution_count": 1,
   "metadata": {},
   "outputs": [
    {
     "ename": "KeyboardInterrupt",
     "evalue": "",
     "output_type": "error",
     "traceback": [
      "\u001b[1;31m---------------------------------------------------------------------------\u001b[0m",
      "\u001b[1;31mKeyboardInterrupt\u001b[0m                         Traceback (most recent call last)",
      "\u001b[1;32m<ipython-input-1-08d0d784a020>\u001b[0m in \u001b[0;36m<module>\u001b[1;34m\u001b[0m\n\u001b[0;32m      3\u001b[0m \u001b[1;32mimport\u001b[0m \u001b[0mnumpy\u001b[0m \u001b[1;32mas\u001b[0m \u001b[0mnp\u001b[0m\u001b[1;33m\u001b[0m\u001b[1;33m\u001b[0m\u001b[0m\n\u001b[0;32m      4\u001b[0m \u001b[1;32mimport\u001b[0m \u001b[0mscipy\u001b[0m\u001b[1;33m.\u001b[0m\u001b[0mstats\u001b[0m \u001b[1;32mas\u001b[0m \u001b[0mst\u001b[0m\u001b[1;33m\u001b[0m\u001b[1;33m\u001b[0m\u001b[0m\n\u001b[1;32m----> 5\u001b[1;33m \u001b[1;32mimport\u001b[0m \u001b[0mmatplotlib\u001b[0m\u001b[1;33m.\u001b[0m\u001b[0mpyplot\u001b[0m \u001b[1;32mas\u001b[0m \u001b[0mplt\u001b[0m\u001b[1;33m\u001b[0m\u001b[1;33m\u001b[0m\u001b[0m\n\u001b[0m\u001b[0;32m      6\u001b[0m \u001b[1;32mimport\u001b[0m \u001b[0mstatsmodels\u001b[0m\u001b[1;33m.\u001b[0m\u001b[0mapi\u001b[0m \u001b[1;32mas\u001b[0m \u001b[0msm\u001b[0m\u001b[1;33m\u001b[0m\u001b[1;33m\u001b[0m\u001b[0m\n\u001b[0;32m      7\u001b[0m \u001b[1;32mimport\u001b[0m \u001b[0mstatsmodels\u001b[0m\u001b[1;33m.\u001b[0m\u001b[0mstats\u001b[0m\u001b[1;33m.\u001b[0m\u001b[0mdiagnostic\u001b[0m \u001b[1;32mas\u001b[0m \u001b[0msmd\u001b[0m\u001b[1;33m\u001b[0m\u001b[1;33m\u001b[0m\u001b[0m\n",
      "\u001b[1;32m~\\anaconda3\\lib\\site-packages\\matplotlib\\pyplot.py\u001b[0m in \u001b[0;36m<module>\u001b[1;34m\u001b[0m\n\u001b[0;32m     41\u001b[0m \u001b[1;32mfrom\u001b[0m \u001b[0mmatplotlib\u001b[0m \u001b[1;32mimport\u001b[0m \u001b[0mdocstring\u001b[0m\u001b[1;33m\u001b[0m\u001b[1;33m\u001b[0m\u001b[0m\n\u001b[0;32m     42\u001b[0m \u001b[1;32mfrom\u001b[0m \u001b[0mmatplotlib\u001b[0m\u001b[1;33m.\u001b[0m\u001b[0mbackend_bases\u001b[0m \u001b[1;32mimport\u001b[0m \u001b[0mFigureCanvasBase\u001b[0m\u001b[1;33m,\u001b[0m \u001b[0mMouseButton\u001b[0m\u001b[1;33m\u001b[0m\u001b[1;33m\u001b[0m\u001b[0m\n\u001b[1;32m---> 43\u001b[1;33m \u001b[1;32mfrom\u001b[0m \u001b[0mmatplotlib\u001b[0m\u001b[1;33m.\u001b[0m\u001b[0mfigure\u001b[0m \u001b[1;32mimport\u001b[0m \u001b[0mFigure\u001b[0m\u001b[1;33m,\u001b[0m \u001b[0mfigaspect\u001b[0m\u001b[1;33m\u001b[0m\u001b[1;33m\u001b[0m\u001b[0m\n\u001b[0m\u001b[0;32m     44\u001b[0m \u001b[1;32mfrom\u001b[0m \u001b[0mmatplotlib\u001b[0m\u001b[1;33m.\u001b[0m\u001b[0mgridspec\u001b[0m \u001b[1;32mimport\u001b[0m \u001b[0mGridSpec\u001b[0m\u001b[1;33m\u001b[0m\u001b[1;33m\u001b[0m\u001b[0m\n\u001b[0;32m     45\u001b[0m \u001b[1;32mfrom\u001b[0m \u001b[0mmatplotlib\u001b[0m \u001b[1;32mimport\u001b[0m \u001b[0mrcParams\u001b[0m\u001b[1;33m,\u001b[0m \u001b[0mrcParamsDefault\u001b[0m\u001b[1;33m,\u001b[0m \u001b[0mget_backend\u001b[0m\u001b[1;33m,\u001b[0m \u001b[0mrcParamsOrig\u001b[0m\u001b[1;33m\u001b[0m\u001b[1;33m\u001b[0m\u001b[0m\n",
      "\u001b[1;32m~\\anaconda3\\lib\\site-packages\\matplotlib\\figure.py\u001b[0m in \u001b[0;36m<module>\u001b[1;34m\u001b[0m\n\u001b[0;32m     16\u001b[0m \u001b[1;33m\u001b[0m\u001b[0m\n\u001b[0;32m     17\u001b[0m \u001b[1;32mimport\u001b[0m \u001b[0mmatplotlib\u001b[0m \u001b[1;32mas\u001b[0m \u001b[0mmpl\u001b[0m\u001b[1;33m\u001b[0m\u001b[1;33m\u001b[0m\u001b[0m\n\u001b[1;32m---> 18\u001b[1;33m \u001b[1;32mfrom\u001b[0m \u001b[0mmatplotlib\u001b[0m \u001b[1;32mimport\u001b[0m \u001b[0mdocstring\u001b[0m\u001b[1;33m,\u001b[0m \u001b[0mprojections\u001b[0m\u001b[1;33m\u001b[0m\u001b[1;33m\u001b[0m\u001b[0m\n\u001b[0m\u001b[0;32m     19\u001b[0m \u001b[1;32mfrom\u001b[0m \u001b[0mmatplotlib\u001b[0m \u001b[1;32mimport\u001b[0m \u001b[0m__version__\u001b[0m \u001b[1;32mas\u001b[0m \u001b[0m_mpl_version\u001b[0m\u001b[1;33m\u001b[0m\u001b[1;33m\u001b[0m\u001b[0m\n\u001b[0;32m     20\u001b[0m \u001b[1;33m\u001b[0m\u001b[0m\n",
      "\u001b[1;32m~\\anaconda3\\lib\\site-packages\\matplotlib\\projections\\__init__.py\u001b[0m in \u001b[0;36m<module>\u001b[1;34m\u001b[0m\n\u001b[1;32m----> 1\u001b[1;33m \u001b[1;32mfrom\u001b[0m \u001b[1;33m.\u001b[0m\u001b[1;33m.\u001b[0m \u001b[1;32mimport\u001b[0m \u001b[0maxes\u001b[0m\u001b[1;33m,\u001b[0m \u001b[0mdocstring\u001b[0m\u001b[1;33m\u001b[0m\u001b[1;33m\u001b[0m\u001b[0m\n\u001b[0m\u001b[0;32m      2\u001b[0m \u001b[1;32mfrom\u001b[0m \u001b[1;33m.\u001b[0m\u001b[0mgeo\u001b[0m \u001b[1;32mimport\u001b[0m \u001b[0mAitoffAxes\u001b[0m\u001b[1;33m,\u001b[0m \u001b[0mHammerAxes\u001b[0m\u001b[1;33m,\u001b[0m \u001b[0mLambertAxes\u001b[0m\u001b[1;33m,\u001b[0m \u001b[0mMollweideAxes\u001b[0m\u001b[1;33m\u001b[0m\u001b[1;33m\u001b[0m\u001b[0m\n\u001b[0;32m      3\u001b[0m \u001b[1;32mfrom\u001b[0m \u001b[1;33m.\u001b[0m\u001b[0mpolar\u001b[0m \u001b[1;32mimport\u001b[0m \u001b[0mPolarAxes\u001b[0m\u001b[1;33m\u001b[0m\u001b[1;33m\u001b[0m\u001b[0m\n\u001b[0;32m      4\u001b[0m \u001b[1;32mfrom\u001b[0m \u001b[0mmpl_toolkits\u001b[0m\u001b[1;33m.\u001b[0m\u001b[0mmplot3d\u001b[0m \u001b[1;32mimport\u001b[0m \u001b[0mAxes3D\u001b[0m\u001b[1;33m\u001b[0m\u001b[1;33m\u001b[0m\u001b[0m\n\u001b[0;32m      5\u001b[0m \u001b[1;33m\u001b[0m\u001b[0m\n",
      "\u001b[1;32m~\\anaconda3\\lib\\site-packages\\matplotlib\\axes\\__init__.py\u001b[0m in \u001b[0;36m<module>\u001b[1;34m\u001b[0m\n\u001b[1;32m----> 1\u001b[1;33m \u001b[1;32mfrom\u001b[0m \u001b[1;33m.\u001b[0m\u001b[0m_subplots\u001b[0m \u001b[1;32mimport\u001b[0m \u001b[1;33m*\u001b[0m\u001b[1;33m\u001b[0m\u001b[1;33m\u001b[0m\u001b[0m\n\u001b[0m\u001b[0;32m      2\u001b[0m \u001b[1;32mfrom\u001b[0m \u001b[1;33m.\u001b[0m\u001b[0m_axes\u001b[0m \u001b[1;32mimport\u001b[0m \u001b[1;33m*\u001b[0m\u001b[1;33m\u001b[0m\u001b[1;33m\u001b[0m\u001b[0m\n",
      "\u001b[1;32m~\\anaconda3\\lib\\site-packages\\matplotlib\\axes\\_subplots.py\u001b[0m in \u001b[0;36m<module>\u001b[1;34m\u001b[0m\n\u001b[0;32m      4\u001b[0m \u001b[1;32mfrom\u001b[0m \u001b[0mmatplotlib\u001b[0m \u001b[1;32mimport\u001b[0m \u001b[0mcbook\u001b[0m\u001b[1;33m,\u001b[0m \u001b[0mdocstring\u001b[0m\u001b[1;33m\u001b[0m\u001b[1;33m\u001b[0m\u001b[0m\n\u001b[0;32m      5\u001b[0m \u001b[1;32mimport\u001b[0m \u001b[0mmatplotlib\u001b[0m\u001b[1;33m.\u001b[0m\u001b[0martist\u001b[0m \u001b[1;32mas\u001b[0m \u001b[0mmartist\u001b[0m\u001b[1;33m\u001b[0m\u001b[1;33m\u001b[0m\u001b[0m\n\u001b[1;32m----> 6\u001b[1;33m \u001b[1;32mfrom\u001b[0m \u001b[0mmatplotlib\u001b[0m\u001b[1;33m.\u001b[0m\u001b[0maxes\u001b[0m\u001b[1;33m.\u001b[0m\u001b[0m_axes\u001b[0m \u001b[1;32mimport\u001b[0m \u001b[0mAxes\u001b[0m\u001b[1;33m\u001b[0m\u001b[1;33m\u001b[0m\u001b[0m\n\u001b[0m\u001b[0;32m      7\u001b[0m \u001b[1;32mfrom\u001b[0m \u001b[0mmatplotlib\u001b[0m\u001b[1;33m.\u001b[0m\u001b[0mgridspec\u001b[0m \u001b[1;32mimport\u001b[0m \u001b[0mGridSpec\u001b[0m\u001b[1;33m,\u001b[0m \u001b[0mSubplotSpec\u001b[0m\u001b[1;33m\u001b[0m\u001b[1;33m\u001b[0m\u001b[0m\n\u001b[0;32m      8\u001b[0m \u001b[1;32mimport\u001b[0m \u001b[0mmatplotlib\u001b[0m\u001b[1;33m.\u001b[0m\u001b[0m_layoutbox\u001b[0m \u001b[1;32mas\u001b[0m \u001b[0mlayoutbox\u001b[0m\u001b[1;33m\u001b[0m\u001b[1;33m\u001b[0m\u001b[0m\n",
      "\u001b[1;32m~\\anaconda3\\lib\\site-packages\\matplotlib\\axes\\_axes.py\u001b[0m in \u001b[0;36m<module>\u001b[1;34m\u001b[0m\n\u001b[0;32m     24\u001b[0m \u001b[1;32mimport\u001b[0m \u001b[0mmatplotlib\u001b[0m\u001b[1;33m.\u001b[0m\u001b[0mquiver\u001b[0m \u001b[1;32mas\u001b[0m \u001b[0mmquiver\u001b[0m\u001b[1;33m\u001b[0m\u001b[1;33m\u001b[0m\u001b[0m\n\u001b[0;32m     25\u001b[0m \u001b[1;32mimport\u001b[0m \u001b[0mmatplotlib\u001b[0m\u001b[1;33m.\u001b[0m\u001b[0mstackplot\u001b[0m \u001b[1;32mas\u001b[0m \u001b[0mmstack\u001b[0m\u001b[1;33m\u001b[0m\u001b[1;33m\u001b[0m\u001b[0m\n\u001b[1;32m---> 26\u001b[1;33m \u001b[1;32mimport\u001b[0m \u001b[0mmatplotlib\u001b[0m\u001b[1;33m.\u001b[0m\u001b[0mstreamplot\u001b[0m \u001b[1;32mas\u001b[0m \u001b[0mmstream\u001b[0m\u001b[1;33m\u001b[0m\u001b[1;33m\u001b[0m\u001b[0m\n\u001b[0m\u001b[0;32m     27\u001b[0m \u001b[1;32mimport\u001b[0m \u001b[0mmatplotlib\u001b[0m\u001b[1;33m.\u001b[0m\u001b[0mtable\u001b[0m \u001b[1;32mas\u001b[0m \u001b[0mmtable\u001b[0m\u001b[1;33m\u001b[0m\u001b[1;33m\u001b[0m\u001b[0m\n\u001b[0;32m     28\u001b[0m \u001b[1;32mimport\u001b[0m \u001b[0mmatplotlib\u001b[0m\u001b[1;33m.\u001b[0m\u001b[0mtext\u001b[0m \u001b[1;32mas\u001b[0m \u001b[0mmtext\u001b[0m\u001b[1;33m\u001b[0m\u001b[1;33m\u001b[0m\u001b[0m\n",
      "\u001b[1;32m~\\anaconda3\\lib\\importlib\\_bootstrap.py\u001b[0m in \u001b[0;36m_find_and_load\u001b[1;34m(name, import_)\u001b[0m\n",
      "\u001b[1;32m~\\anaconda3\\lib\\importlib\\_bootstrap.py\u001b[0m in \u001b[0;36m_find_and_load_unlocked\u001b[1;34m(name, import_)\u001b[0m\n",
      "\u001b[1;32m~\\anaconda3\\lib\\importlib\\_bootstrap.py\u001b[0m in \u001b[0;36m_load_unlocked\u001b[1;34m(spec)\u001b[0m\n",
      "\u001b[1;32m~\\anaconda3\\lib\\importlib\\_bootstrap_external.py\u001b[0m in \u001b[0;36mexec_module\u001b[1;34m(self, module)\u001b[0m\n",
      "\u001b[1;32m~\\anaconda3\\lib\\importlib\\_bootstrap_external.py\u001b[0m in \u001b[0;36mget_code\u001b[1;34m(self, fullname)\u001b[0m\n",
      "\u001b[1;32m~\\anaconda3\\lib\\importlib\\_bootstrap_external.py\u001b[0m in \u001b[0;36m_compile_bytecode\u001b[1;34m(data, name, bytecode_path, source_path)\u001b[0m\n",
      "\u001b[1;31mKeyboardInterrupt\u001b[0m: "
     ]
    }
   ],
   "source": [
    "# Librerias a utilizar \n",
    "import pandas as pd\n",
    "import numpy as np \n",
    "import scipy.stats as st\n",
    "import matplotlib.pyplot as plt\n",
    "import statsmodels.api as sm\n",
    "import statsmodels.stats.diagnostic as smd\n",
    "import seaborn as sns\n",
    "from scipy.optimize import fsolve\n",
    "from sklearn.preprocessing import PolynomialFeatures\n",
    "from sklearn import linear_model\n",
    "from sklearn.neighbors import KernelDensity\n",
    "from scipy.stats import gaussian_kde\n",
    "from statsmodels.nonparametric.kde import KDEUnivariate\n",
    "from statsmodels.nonparametric.kernel_density import KDEMultivariate"
   ]
  },
  {
   "cell_type": "markdown",
   "metadata": {},
   "source": [
    "<img style=\"float: left; margin: 30px 15px 15px 15px;\" src=\"https://pngimage.net/wp-content/uploads/2018/06/logo-iteso-png-5.png\" width=\"300\" height=\"500\" /> \n",
    "    \n",
    "    \n",
    "### <font color='navy'> Simulación de procesos financieros. \n",
    "\n",
    "**Nombres:** Renatta Garcia Sanchez, Alejandro Michel Marrón\n",
    "\n",
    "\n",
    "**Expediente** : 703275 , 719889\n",
    "**Profesor:** Oscar David Jaramillo Zuluaga.\n",
    "    \n",
    "**Liga repositorio:** https://github.com/HKael/proyecto_modulo1\n",
    "\n"
   ]
  },
  {
   "cell_type": "markdown",
   "metadata": {},
   "source": [
    "#   <div style=\"text-align:center\"><span style=\"color:#154898; font-family:Rockwell; font-size:1.6em;\">  Readmisión de pacientes en hospitales </span></div> </p>\n",
    "El proposito de este proyecto es analizar los factores que afectan a la readmisión de los pacientes a los hospitales. De esta forma se pueden proponer soluciones para disminuir el reingreso de pacientes a los hospitales. \n",
    "\n"
   ]
  },
  {
   "attachments": {
    "Hospital.png": {
     "image/png": "[encoded data removed]"
    }
   },
   "cell_type": "markdown",
   "metadata": {},
   "source": [
    "![Hospital.png](attachment:Hospital.png)"
   ]
  },
  {
   "attachments": {
    "image-2.png": {
     "image/png": "[encoded data removed]"
    }
   },
   "cell_type": "markdown",
   "metadata": {},
   "source": [
    "\n",
    "## Objetivos\n",
    "\n",
    "### Objetivos generales\n",
    "\n",
    "El objetivo de este proyecto es el análisis de diversos factores en los pacientes que fueron readmitidos dentro de los siguientes 30 días de haber sido dados de alta del hospital. Entre los factores de estudio se encuentran el tiempo de estadía en la visita previa, el número de medicamentos que fueron administrados al paciente, el número de estudios de laboratorio, número de procedimientos médicos realizados, así como el género del paciente.\n",
    "\n",
    "### Objetivos específicos\n",
    "\n",
    "- Analizar el comportamiento de la cantidad de medicamentos que recibieron los pacientes que fueron readmitidos dentro de los siguientes 30 días de su readmisión al hospital. \n",
    "\n",
    "- Analizar el comportamiento del tiempo de estadía en su última visita al hospital de los pacientes que fueron readmitidos dentro de los siguientes 30 días de su readmisión al hospital.\n",
    "\n",
    "- Analizar el comportamiento de la cantidad de estudios de laboratorio que recibieron los pacientes que fueron readmitidos dentro de los siguientes 30 días de su readmisión al hospital.\n",
    "\n",
    "- Analizar el comportamiento de la cantidad de procedimientos médico que recibieron los pacientes que fueron readmitidos dentro de los siguientes 30 días de su readmisión al hospital.\n",
    "\n",
    "\n",
    "## Definición del problema\n",
    "\n",
    "Es de suma importancia conocer el comportamiento de los pacientes que se espera sean readmitidos dentro de los siguientes días en el hospital, desde un punto de vista administrativo y para el paciente. Administrativamente esto permite llevar un control más cercano de los pacientes que posiblemente serán readmitidos. A los pacientes les sirve conocer esto ya que estarán más al pendiente de su salud dentro de los siguientes 30 días y podrán ser atendidos en su debido momento. \n",
    "\n",
    "### Supuestos\n",
    "\n",
    "- Diagnóstico correcto.\n",
    "- Procedimientos realizados están mínimamente relacionados.\n",
    "- Los medicamentos administrados son correctos y necesarios. No hay exceso ni faltantes.\n",
    "\n",
    "\n",
    "### Hipótesis\n",
    " \n",
    "- La población de hombres y mujeres se pueden considerar iguales, es decir no existe diferencia entre una paciente mujer y un paciente hombre médicamente hablando.\n",
    "\n",
    "- La cantidad de medicamento y el tiempo en el hospital están correlacionados.\n",
    "\n",
    "\n",
    "### Nodos \n",
    "\n",
    "- Tiempo total de estadía del paciente. \n",
    "\n",
    "- Número de medicamentos administrados al paciente durante su estadía en el hospital. \n",
    "\n",
    "- Número de estudios de laboratorio realizados al paciente durante su estadía en el hospital.   \n",
    "\n",
    "- Número de procedimientos médicos realizados al paciente durante su estadía en el hospital.\n",
    "\n",
    "Observando estos comportamientos podemos determinar a partir de los medicamentos dados, estudios y procedimientos, cual es la probabilidad de estar en la población de readmitidos y de estar forma prestar más atención a estos pacientes y brindar más educación de salud a los mismos.\n",
    "\n",
    "### Diagrama\n",
    "\n",
    "El siguiente diagrama muestra todas las variables que se contemplan en la base de datos y en verde se muestran los nodos a simular. \n",
    "\n",
    "![image-2.png](attachment:image-2.png)\n",
    "\n",
    "## Base de datos \n",
    "\n",
    "La base de datos de donde se obtendrán los datos es la siguiente: Health Facts database. Esta base de datos es realizada por un organismo no gubernamental y voluntario, donde se recopila información de distintos hospitales participantes quienes brindan la información de la atención que recibió cada paciente en el hospital, así como su información demográfica como raza y edad del paciente. La fuente específica es el Centro de Investigación Clínica y Traslacional, Virginia Commonwealth University\n",
    "\n",
    "Esta misma base de datos puede ser recuperada de kaggle en le siguiente link: https://www.kaggle.com/dansbecker/hospital-readmissions/notebooks?sortBy=voteCount&group=everyone&pageSize=20&datasetId=52431\n",
    "\n",
    "El número de días de readmisión se obtuvo de la siguiente base de datos que es una versión no procesada de la base anterior:\n",
    "https://www.kaggle.com/brandao/diabetes?select=diabetic_data.csv\n",
    "\n",
    "El siguiente dataframe muestra la base de datos general de donde se obtienen los datos.  "
   ]
  },
  {
   "cell_type": "code",
   "execution_count": null,
   "metadata": {
    "scrolled": true
   },
   "outputs": [],
   "source": [
    "data=pd.read_csv(\"data\")\n",
    "data.head()"
   ]
  },
  {
   "cell_type": "markdown",
   "metadata": {},
   "source": [
    "Para este proyecto vamos a tomar únicamente la primera, segunda, tercera, cuarta y última columna de datos, mientras que los datos demográficos los útilizaremos únicamente como referencia y tomaremos únicamente en cuenta los datos de genéro ya que cualquier paciente se puede clasificar con estos. Por lo tanto podemos reducir nuestro data set a lo siguiente:"
   ]
  },
  {
   "cell_type": "code",
   "execution_count": null,
   "metadata": {},
   "outputs": [],
   "source": [
    "columnas=['Unnamed: 0','number_outpatient', 'number_emergency', 'number_inpatient', 'number_diagnoses',\n",
    "          'race_Caucasian', 'race_AfricanAmerican', 'age_[70-80)', 'age_[60-70)', 'age_[50-60)', 'age_[80-90)',\n",
    "          'age_[40-50)', 'payer_code_?', 'payer_code_MC', 'payer_code_HM',\n",
    "          'payer_code_SP', 'payer_code_BC', 'medical_specialty_?',\n",
    "          'medical_specialty_InternalMedicine','medical_specialty_Emergency/Trauma',\n",
    "          'medical_specialty_Family/GeneralPractice', 'medical_specialty_Cardiology', 'diag_1_428', 'diag_1_414',\n",
    "          'diag_1_786', 'diag_2_276', 'diag_2_428', 'diag_2_250', 'diag_2_427',\n",
    "          'diag_3_250', 'diag_3_401', 'diag_3_276', 'diag_3_428', \n",
    "          'max_glu_serum_None', 'A1Cresult_None', 'metformin_No',\n",
    "          'repaglinide_No', 'nateglinide_No', 'chlorpropamide_No',\n",
    "          'glimepiride_No', 'acetohexamide_No', 'glipizide_No', 'glyburide_No',\n",
    "          'tolbutamide_No', 'pioglitazone_No', 'rosiglitazone_No', 'acarbose_No',\n",
    "          'miglitol_No', 'troglitazone_No', 'tolazamide_No', 'examide_No',\n",
    "          'citoglipton_No', 'insulin_No', 'glyburide-metformin_No',\n",
    "          'glipizide-metformin_No', 'glimepiride-pioglitazone_No',\n",
    "          'metformin-rosiglitazone_No', 'metformin-pioglitazone_No', 'change_No','diabetesMed_Yes']\n",
    "data.drop(columnas, axis=1, inplace=True)\n",
    "data.head()\n",
    "\n"
   ]
  },
  {
   "cell_type": "markdown",
   "metadata": {},
   "source": [
    "Tomaremos únicamente los datos de aquellos pacientes que fueron readmitidos, es decir, aquellos que en la columna de readmitted tengan un valor distinto de 0."
   ]
  },
  {
   "cell_type": "code",
   "execution_count": null,
   "metadata": {},
   "outputs": [],
   "source": [
    "data=data[data['readmitted2']!=0]\n",
    "data.head()"
   ]
  },
  {
   "cell_type": "markdown",
   "metadata": {},
   "source": [
    "## Variables relevantes "
   ]
  },
  {
   "cell_type": "markdown",
   "metadata": {},
   "source": [
    ">**time_in_hospital:** Tiempo de estadía en última visita. Esta variable abarca desde que fue ingresado el paciente hasta que salió del hospital.\n",
    "\n",
    "\n",
    ">**num_medications:** Número de medicamentos administrados en su última estancia en el hospital.\n",
    "\n",
    "\n",
    ">**num_lab_procedures:** Número de estudios de laboratorio en su última estancia en el hospital.\n",
    "\n",
    "\n",
    ">**num_procedures:** Procedimientos médicos en su última estancia en el hospital. \n",
    "\n",
    ">**gender_Female:** Nos indica si el género del paciente es o no femenino."
   ]
  },
  {
   "cell_type": "markdown",
   "metadata": {},
   "source": [
    "## Conceptos  y definiciones relevantes para el proyecto"
   ]
  },
  {
   "cell_type": "markdown",
   "metadata": {},
   "source": [
    "### Prueba de independencia χ² Chi-squared \n",
    "Se utiliza cuando se tiene una muestra de n individuos que se clasifican respecto a dos variables, preferentemente cualitativas (nominales dicotómicas o politómicas) y se desea conocer a partir de datos muestrales, si existe asociación de estas a nivel poblacional."
   ]
  },
  {
   "cell_type": "markdown",
   "metadata": {},
   "source": [
    "### Histograma \n",
    "Es una representación gráfica de una variable en forma de barras, donde la superficie de cada barra es proporcional a la frecuencia de los valores representados. Sirven para obtener una \"primera vista\" general, o panorama, de la distribución de la población, o de la muestra, respecto a una característica, cuantitativa y continua"
   ]
  },
  {
   "cell_type": "markdown",
   "metadata": {},
   "source": [
    "### Distribución de probabilidad\n",
    "La distribución de probabilidad de una variable aleatoria es una función que asigna a cada suceso definido sobre la variable la probabilidad de que dicho suceso ocurra. La distribución de probabilidad está definida sobre el conjunto de todos los sucesos y cada uno de los sucesos es el rango de valores de la variable aleatoria. \n",
    "\n",
    "#### Para variables discretas...\n",
    "Se denomina distribución de variable discreta a aquella cuya función de probabilidad solo toma valores positivos en un conjunto de valores de *X* finito o infinito numerable. A dicha función se le llama función de masa de probabilidad. En este caso la distribución de probabilidad es la suma de la función de masa"
   ]
  },
  {
   "cell_type": "markdown",
   "metadata": {},
   "source": [
    "# Separación de datos por nodo"
   ]
  },
  {
   "cell_type": "code",
   "execution_count": null,
   "metadata": {},
   "outputs": [],
   "source": [
    "#Nodo 1\n",
    "N_1=np.array(data.time_in_hospital)\n",
    "\n",
    "\n",
    "\n",
    "\n",
    "#Nodo 2\n",
    "N_2=np.array(data.num_medications)\n",
    "\n",
    "\n",
    "\n",
    "#Nodo 3\n",
    "N_3=np.array(data.num_lab_procedures)\n",
    "\n",
    "\n",
    "\n",
    "\n",
    "#Nodo 4\n",
    "N_4=np.array(data.num_procedures)\n",
    "\n"
   ]
  },
  {
   "cell_type": "markdown",
   "metadata": {},
   "source": [
    "# Funciones relavantes:"
   ]
  },
  {
   "cell_type": "code",
   "execution_count": null,
   "metadata": {},
   "outputs": [],
   "source": [
    "def plot_histogram_discrete(distribucion:'distribución a graficar histograma',\n",
    "                            xlabel:'x label',\n",
    "                            ylabel: 'y label',\n",
    "                            title: 'title'):\n",
    "    '''Función para graficar el histograma de una distribución discreta'''\n",
    "    plt.figure(figsize=[8,4])\n",
    "    y,x = np.histogram(distribucion,bins = len(set(distribucion))) \n",
    "    plt.bar(list(set(distribucion)),y)\n",
    "    plt.xlabel(xlabel)\n",
    "    plt.ylabel(ylabel)\n",
    "    plt.title(title)\n",
    "    plt.show()"
   ]
  },
  {
   "cell_type": "code",
   "execution_count": null,
   "metadata": {},
   "outputs": [],
   "source": [
    "def kde_statsmodels_m(x, x_grid, bandwidth=0.2, **kwargs):\n",
    "    \"\"\"Multivariate Kernel Density Estimation with Statsmodels\"\"\"\n",
    "    kde = KDEMultivariate(x, \n",
    "                          bw='cv_ml',  #bandwidth * np.ones_like(x),\n",
    "                          var_type='u', **kwargs)\n",
    "    return kde.pdf(x_grid)\n",
    "\n",
    "def kde_statsmodels_func(x, bandwidth=0.2):\n",
    "    \"\"\"Multivariate Kernel Density Estimation with Statsmodels\"\"\"\n",
    "    kde = KDEMultivariate(x, \n",
    "                          bw='cv_ml',  #bandwidth * np.ones_like(x),\n",
    "                          var_type='u')\n",
    "    return lambda u: kde.pdf(u)"
   ]
  },
  {
   "cell_type": "code",
   "execution_count": null,
   "metadata": {},
   "outputs": [],
   "source": [
    "def Gen_distr_discreta(U:'vector de números aleatorios',\n",
    "                       p_acum: 'P.Acumulada de la distribución a generar'):\n",
    "    '''Función que aplica el método de la transformada inversa para calcular números que distribuyan como una distribución\n",
    "    discreta dada'''\n",
    "    v = np.array(list(map(lambda j:sum(1 for i in p_acum if i<U[j]),range(N))))\n",
    "    return v"
   ]
  },
  {
   "cell_type": "code",
   "execution_count": null,
   "metadata": {},
   "outputs": [],
   "source": [
    "def estra_igualmente_espaciado(B:'Número de estratos'):\n",
    "    \"\"\"\n",
    "    Esta función aplica el método de estratficacación con un número de estratos dados a valores aleatorios que se encuentran\n",
    "    entre 0 y 1\n",
    "    \"\"\"\n",
    "    U= np.random.rand(B)\n",
    "    i= np.arange(0,B)\n",
    "    estratos= (U+i)/B\n",
    "    return estratos"
   ]
  },
  {
   "cell_type": "code",
   "execution_count": null,
   "metadata": {},
   "outputs": [],
   "source": [
    "def acep_rechazo_simplificada_dis(\n",
    "    N:'Cantidad de variables a generar',\n",
    "    Dom_f:'Dominio de la función f como tupla (a,b)',\n",
    "    f:'función objetivo a generar',\n",
    "    max_f:'máximo valor de f'):\n",
    "    \n",
    "    X = np.zeros(N)\n",
    "    i=0\n",
    "    while i<N:\n",
    "        R2=np.random.uniform(0,max_f)\n",
    "        R1=np.random.randint(Dom_f[0], Dom_f[1])\n",
    "        if R2<= f([R1]):\n",
    "            X[i]=R1\n",
    "            i+=1\n",
    "    return X"
   ]
  },
  {
   "cell_type": "markdown",
   "metadata": {},
   "source": [
    "## Visualización de los datos del nodo 1: time in hospital\n",
    "\n",
    "Dado que estamos trabajando con distribuciones discretas dibujaremos el histograma correspondienta a variables discretas para observar a grandes rasgos su distribución. "
   ]
  },
  {
   "cell_type": "code",
   "execution_count": null,
   "metadata": {
    "scrolled": true
   },
   "outputs": [],
   "source": [
    "#histograma para el nodo 1\n",
    "plot_histogram_discrete(N_1, 'Tiempo en el hospital (días)', 'Frecuencia', 'Histograma de tiempo en el hospital')"
   ]
  },
  {
   "cell_type": "markdown",
   "metadata": {},
   "source": [
    "## Tabla de valores, frecuencias y probabilidad\n",
    "\n",
    "A continuación construimos una tabla de valores, frecuencias y probabilidades, las frecuencias se utilizan para calcular la probabilidad y de esta forma poder observar más de cerca la distribución y trabajar con ella. "
   ]
  },
  {
   "cell_type": "code",
   "execution_count": null,
   "metadata": {
    "scrolled": true
   },
   "outputs": [],
   "source": [
    "#creación de dataframe que contiene los valores únicos sus frecuencias y su probabilidad asociada a cada valor.\n",
    "N_1_frec_prob=pd.DataFrame({'Valores': np.unique(N_1, return_counts=True)[0],\n",
    "                            'Frecuencias':np.unique(N_1, return_counts=True)[1]}) \n",
    "N_1_frec_prob['Probabilidad']=N_1_frec_prob['Frecuencias']/len(N_1)\n",
    "\n",
    "N_1_frec_prob"
   ]
  },
  {
   "cell_type": "markdown",
   "metadata": {},
   "source": [
    "La gráfica siguiente es una gráfica de probabilides con su respectiva probabilidad, como era de esperase se comporta de la misma forma que el histograma de frencuencias. "
   ]
  },
  {
   "cell_type": "code",
   "execution_count": null,
   "metadata": {
    "scrolled": true
   },
   "outputs": [],
   "source": [
    "plt.bar(N_1_frec_prob.Valores, N_1_frec_prob.Probabilidad, label='Histograma de probabilidades')\n",
    "plt.xlabel('Días en el hospital')\n",
    "plt.ylabel('Probabilidad')\n",
    "plt.title('Histograma de probabilides de días en el hospital')\n",
    "plt.legend()\n",
    "plt.show()"
   ]
  },
  {
   "cell_type": "markdown",
   "metadata": {},
   "source": [
    "## Kernel density estimation\n",
    "\n",
    "A continuación calcularamos la función de masa de probabilidad (PMF) a partir del método de kernel density estimation, aplicamos la función de statsmodel porque esta permite tomar datos discretos o de diferentes tipos."
   ]
  },
  {
   "cell_type": "code",
   "execution_count": null,
   "metadata": {
    "scrolled": true
   },
   "outputs": [],
   "source": [
    "#definimos el grid sobre el que vamos a trabajar\n",
    "N_1_grid=np.arange(1,15)\n",
    "\n",
    "#aplicamos nuestra función \n",
    "pmf_N1=kde_statsmodels_m(N_1, N_1_grid, bandwidth=0.2)\n",
    "\n",
    "#gráfica\n",
    "plt.bar(N_1_frec_prob.Valores, N_1_frec_prob.Probabilidad, label='Histograma de probabilidades')\n",
    "plt.plot(N_1_grid, pmf_N1, label='PMF estimada', color='g', linewidth=3)\n",
    "plt.xlabel('Días en el hospital')\n",
    "plt.ylabel('Probabilidad')\n",
    "plt.title('KDE vs Histograma')\n",
    "plt.legend()\n",
    "plt.show()"
   ]
  },
  {
   "cell_type": "markdown",
   "metadata": {},
   "source": [
    "Observamos que la pmf generada por medio del kernerl densitiy estimation es prácticamente perfecta, esto nos sirve para en el futuro poder simular más datos. "
   ]
  },
  {
   "cell_type": "markdown",
   "metadata": {},
   "source": [
    "## Método de aceptación y rechazo usando KDE"
   ]
  },
  {
   "cell_type": "code",
   "execution_count": null,
   "metadata": {},
   "outputs": [],
   "source": [
    "f_kde_n1=kde_statsmodels_func(N_1)\n",
    "pmf_kde_N1=acep_rechazo_simplificada_dis(len(N_1), (1,14), f_kde_n1, max(pmf_N1))\n",
    "\n",
    "#gráfica\n",
    "plt.figure(figsize=[8,4])\n",
    "y,x = np.histogram(pmf_kde_N1,bins = len(set(pmf_kde_N1))) \n",
    "plt.bar(list(set(pmf_kde_N1)),y, label='PMF simulada')\n",
    "plt.plot(N_1_frec_prob.Valores, N_1_frec_prob.Frecuencias, color='g', lw=2, label='Datos reales')\n",
    "plt.legend()\n",
    "plt.xlabel('Días en el hospital')\n",
    "plt.ylabel('Frecuencias')\n",
    "plt.title('Dáis en el hospital PMF simulada vs datos reales')\n",
    "plt.show()"
   ]
  },
  {
   "cell_type": "markdown",
   "metadata": {},
   "source": [
    "## Método de la transformada inversa para generar números pseudoaleatorios"
   ]
  },
  {
   "cell_type": "markdown",
   "metadata": {},
   "source": [
    "Dado que tenemos una distribución discreta utilizamos el método de la transformada inversa para generar números pseudoaleatorios que se distribuyan como nuestros datos. Para hacer esto calculamos la probabilidad acumulada y después aplicamos el método para N números. "
   ]
  },
  {
   "cell_type": "code",
   "execution_count": null,
   "metadata": {},
   "outputs": [],
   "source": [
    "#Se añade la probabilidad acumulada\n",
    "N_1_frec_prob['Acumulada']=N_1_frec_prob.Probabilidad.cumsum()\n",
    "N_1_frec_prob"
   ]
  },
  {
   "cell_type": "code",
   "execution_count": null,
   "metadata": {
    "scrolled": true
   },
   "outputs": [],
   "source": [
    "N=len(N_1) #números a generar\n",
    "N_1_u=np.random.rand(N) #generamos números aleatorios entre 0 y 1\n",
    "v_N1=Gen_distr_discreta(N_1_u, N_1_frec_prob.Acumulada)+1 #aplicamos el método de la transformada inversa\n",
    "\n",
    "plot_histogram_discrete(v_N1, 'Tiempo en el hospital (días)', 'Frecuencia', 'Histograma de tiempo en el hospital (TI)')"
   ]
  },
  {
   "cell_type": "markdown",
   "metadata": {},
   "source": [
    "Podemos observar a partir del histograma realizado por el método de la transformada inversa que en su forma la distribución de los datos sí es muy similar. En la gráfica siguiente graficamos ambos datos para observar más fácilmente la diferencia. "
   ]
  },
  {
   "cell_type": "code",
   "execution_count": null,
   "metadata": {
    "scrolled": true
   },
   "outputs": [],
   "source": [
    "plt.figure(figsize=[8,4])\n",
    "y,x = np.histogram(v_N1,bins = len(set(v_N1))) \n",
    "plt.bar(list(set(v_N1)),y, label= 'Números generados')\n",
    "plt.plot(N_1_frec_prob.Valores, N_1_frec_prob.Frecuencias, color='g', lw=2, label='Datos reales')\n",
    "plt.legend()\n",
    "plt.xlabel('Tiempo en el hospital (días)')\n",
    "plt.ylabel('Frecuencia')\n",
    "plt.title('Números generados vs real')\n",
    "plt.show()"
   ]
  },
  {
   "cell_type": "markdown",
   "metadata": {},
   "source": [
    "A partir de está grafica es fácil ver que los datos generados con el método de la transformada inversa se distribuyen muy similarmente a los valores reales, si bien no es exactamente igual, la forma es casi la misma y son pocos los valores que se salen o que le falta."
   ]
  },
  {
   "cell_type": "markdown",
   "metadata": {},
   "source": [
    "## Media y desviación estándar teórica\n",
    "\n",
    "La esperanza de una distribución discreta se calcula con la siguiente fórmula:\n",
    "\n",
    "$$E[X]=\\sum_{j=1}^{m} p_jx_j.$$\n",
    "\n",
    "La varianza de una distribución discreta se calcula con la siguiente fórmula:\n",
    "\n",
    "$$\\sigma_X^2=\\sum_{j=1}^{m} p_j(x_j-E[X])^2.$$"
   ]
  },
  {
   "cell_type": "code",
   "execution_count": null,
   "metadata": {},
   "outputs": [],
   "source": [
    "media_N1= np.sum([N_1_frec_prob.Valores[i]*N_1_frec_prob.Probabilidad[i] \n",
    "               for i in range(len(N_1_frec_prob.Frecuencias))])\n",
    "\n",
    "sigma_N1=np.sqrt(np.sum([N_1_frec_prob.Probabilidad[i]*(N_1_frec_prob.Valores[i] - media_N1)**2\n",
    "               for i in range(len(N_1_frec_prob.Frecuencias))]))\n",
    "\n",
    "print('Media por medio de definición de distibuciones discretas: ', media_N1)\n",
    "print('Desviación estándar por medio de definición de distribuciones discretas: ', sigma_N1)"
   ]
  },
  {
   "cell_type": "markdown",
   "metadata": {},
   "source": [
    "## Montecarlo"
   ]
  },
  {
   "cell_type": "code",
   "execution_count": null,
   "metadata": {},
   "outputs": [],
   "source": [
    "N = len(N_1)\n",
    "u1 = np.random.rand(N) #generación de valores aleatorios\n",
    "f_u1 = Gen_distr_discreta(u1,N_1_frec_prob.Acumulada)+1 #función \n",
    "media_montecarlo_N1 = np.mean(f_u1)\n",
    "sigma_montecarlo_N1= np.std(f_u1)\n",
    "\n",
    "confianza=[0.95,0.975, 0.99]\n",
    "\n",
    "intervalos_N1 = st.t.interval(confianza,len(N_1)-1, loc=np.mean(N_1), scale=st.sem(N_1))\n",
    "\n",
    "montecarlo_N1=pd.DataFrame(intervalos_N1)\n",
    "montecarlo_N1.index=['Intervalo superior', 'Intervalo inferior']\n",
    "montecarlo_N1.columns=confianza\n",
    "montecarlo_N1"
   ]
  },
  {
   "cell_type": "markdown",
   "metadata": {},
   "source": [
    "## Método de reducción de varianza: estratificación"
   ]
  },
  {
   "cell_type": "code",
   "execution_count": null,
   "metadata": {},
   "outputs": [],
   "source": [
    "f_u2= lambda U: Gen_distr_discreta(U, N_1_frec_prob.Acumulada)+1\n",
    "U= estra_igualmente_espaciado(N)\n",
    "valores_estrat_N1= f_u2(U)\n",
    "media_estrat_N1=np.mean(valores_estrat_N1)\n",
    "sigma_estrat_N1=np.std(valores_estrat_N1)\n",
    "\n",
    "print('Media con reducción de varianza estratificada=', media_estrat_N1)\n",
    "print('La desviación estándar con el método de estratificación es: ', sigma_estrat_N1)"
   ]
  },
  {
   "cell_type": "markdown",
   "metadata": {},
   "source": [
    "## Método de reducción de varianza: números complementarios"
   ]
  },
  {
   "cell_type": "code",
   "execution_count": null,
   "metadata": {},
   "outputs": [],
   "source": [
    "ri = np.random.rand(N)\n",
    "ri_c = 1-ri \n",
    "U1= f_u2(ri)\n",
    "U2= f_u2(ri_c)\n",
    "\n",
    "m4 = (U1.mean()+U2.mean())/2\n",
    "\n",
    "print('Media por medio del método de números complementarios: ', m4)"
   ]
  },
  {
   "cell_type": "markdown",
   "metadata": {},
   "source": [
    "## Estimación de parámetros para distribuciones y método cuantil cuantil\n",
    "\n",
    "Estimaremos los parámetros para distintas distribuciones discretas y posteriormente utilizaremos el método cuantil cuantil para verificar el ajuste de los datos reales a una distribución dada."
   ]
  },
  {
   "cell_type": "markdown",
   "metadata": {},
   "source": [
    "### Binomial\n",
    "\n",
    "Los parámetros de la distribución binomial son n y p, y estos los calcularemos a partir de la media y la desviación estándar.\n",
    "\n",
    "- $\\mu= np$\n",
    "- $\\sigma ^2 = np(1-p)$\n",
    "\n",
    "A continuación estimaremos los parámetros para una distribución binomial para el nodo 1, utilizando la media y la varianza calculadas teóricamente. Primero despejamos las ecuacións usando n y p."
   ]
  },
  {
   "cell_type": "code",
   "execution_count": null,
   "metadata": {},
   "outputs": [],
   "source": [
    "def binomial(x: 'Vector de valores para n y p'):\n",
    "    'Esta función se utiliza para conocer los parámetros n y p, dadas miu y sigma'\n",
    "    n=x[0]\n",
    "    p=x[1]\n",
    "    return [media_N1-n*p,\n",
    "            (sigma_N1**2)-n*p*+n*p**2]\n",
    "\n",
    "param_binom=fsolve(binomial, [1,0.6]) #estimación de parámetros\n",
    "n=param_binom[0]; p=param_binom[1]\n",
    "\n",
    "\n",
    "\n",
    "#aplicación del método cuantil cuantil\n",
    "fig = plt.figure()\n",
    "ax = fig.add_subplot(111)\n",
    "res=st.probplot(N_1, dist='binom', sparams=param_binom, plot=ax)\n",
    "plt.show()"
   ]
  },
  {
   "cell_type": "markdown",
   "metadata": {},
   "source": [
    "### Poisson\n",
    "\n",
    "El parámetro específico de la distribución de poisson es lambada que corresponde a la media de los datos, por lo tanto utilizaremos la media para aplicar el método de cuantil cuantil.\n",
    "\n"
   ]
  },
  {
   "cell_type": "code",
   "execution_count": null,
   "metadata": {
    "scrolled": false
   },
   "outputs": [],
   "source": [
    "lambda_p= media_N1 #parámetro de la distribución poisson\n",
    "\n",
    "\n",
    "fig = plt.figure()\n",
    "ax = fig.add_subplot(111)\n",
    "res=st.probplot(N_1, dist='poisson', sparams=( lambda_p), plot=ax)\n",
    "plt.show()"
   ]
  },
  {
   "attachments": {
    "image.png": {
     "image/png": "[encoded data removed]"
    }
   },
   "cell_type": "markdown",
   "metadata": {},
   "source": [
    "### Geométrica\n",
    "\n",
    "El parámetro específico de la distribución goemétrica corresponde a p y este lo podemos estimar directamente de la media, con la siguiente igualdad. \n",
    "\n",
    "![image.png](attachment:image.png)\n",
    "\n"
   ]
  },
  {
   "cell_type": "code",
   "execution_count": null,
   "metadata": {},
   "outputs": [],
   "source": [
    "p_geom=1/media_N1 #parámetro p\n",
    "\n",
    "fig = plt.figure()\n",
    "ax = fig.add_subplot(111)\n",
    "res=st.probplot(N_1, dist='geom', sparams=(p_geom), plot=ax)\n",
    "plt.show()"
   ]
  },
  {
   "attachments": {
    "image-2.png": {
     "image/png": "[encoded data removed]"
    },
    "image.png": {
     "image/png": "[encoded data removed]"
    }
   },
   "cell_type": "markdown",
   "metadata": {},
   "source": [
    "### Distribución binomial negativa\n",
    "\n",
    "La distribución binomial depende de los parámetros r y p que se pueden estimar con el siguiente sistema de ecuaciones.\n",
    "![image.png](attachment:image.png)\n",
    "![image-2.png](attachment:image-2.png)"
   ]
  },
  {
   "cell_type": "code",
   "execution_count": null,
   "metadata": {
    "scrolled": true
   },
   "outputs": [],
   "source": [
    "def nbinom(x: 'Vector de valores para n y p'):\n",
    "    'Esta función se utiliza para conocer los parámetros n y p, dadas miu y sigma'\n",
    "    p=x[0]\n",
    "    r=x[1]\n",
    "    return [media_N1-(p*r)/(1-p),\n",
    "            (sigma_N1**2)-(p*r)/(1-2*p+p**2)]\n",
    "\n",
    "param_nbinom=fsolve(nbinom, [0.6,1])\n",
    "p_binom=param_nbinom[0]; r=param_nbinom[1]\n",
    "\n",
    "\n",
    "fig = plt.figure()\n",
    "ax = fig.add_subplot(111)\n",
    "res=st.probplot(N_1, dist='nbinom', sparams=(r,p_binom), plot=ax)\n",
    "plt.show()"
   ]
  },
  {
   "cell_type": "markdown",
   "metadata": {},
   "source": [
    "A partir de esto podemos determinar que la distribución que mejor se ajusta es la distribución binomial con los siguientes parámetros"
   ]
  },
  {
   "cell_type": "code",
   "execution_count": null,
   "metadata": {},
   "outputs": [],
   "source": [
    "print('El parámetro n para la disrtibución binomial es', n)\n",
    "print('El parámetro p para la distribución binomial es', p)"
   ]
  },
  {
   "cell_type": "markdown",
   "metadata": {},
   "source": [
    "En la siguiente gráfica mostramos nuestra distribución real junto con la teórica estimada."
   ]
  },
  {
   "cell_type": "code",
   "execution_count": null,
   "metadata": {
    "scrolled": false
   },
   "outputs": [],
   "source": [
    "pmf_binom_N1=getattr(st, 'binom').pmf(N_1_frec_prob.Valores, n,p)\n",
    "\n",
    "#gráfica\n",
    "plt.bar(N_1_frec_prob.Valores, N_1_frec_prob.Probabilidad, label='Histograma de probabilidades')\n",
    "plt.plot(pmf_binom_N1, label='PMF binomial', color='g', linewidth=3)\n",
    "plt.xlabel('Días en el hospital')\n",
    "plt.ylabel('Probabilidad')\n",
    "plt.title('Teórica vs real')\n",
    "plt.legend()\n",
    "plt.show()"
   ]
  },
  {
   "cell_type": "markdown",
   "metadata": {},
   "source": [
    "para el caso del nodo 1 observamos que el uso de una distribución teórica no es bueno, en este caso es mucho mejor usar la función de transformada inversa o bien la pmf generada por el KDE. "
   ]
  },
  {
   "cell_type": "markdown",
   "metadata": {},
   "source": [
    "## Visualización de los datos del nodo 2: Num medications\n",
    "\n",
    "Dado que estamos trabajando con distribuciones discretas dibujaremos el histograma correspondienta a variables discretas para observar a grandes rasgos su distribución. "
   ]
  },
  {
   "cell_type": "code",
   "execution_count": null,
   "metadata": {},
   "outputs": [],
   "source": [
    "plot_histogram_discrete(N_2, 'Número de medicamentos', 'Frecuencia', 'Histograma de número de medicamentos')"
   ]
  },
  {
   "cell_type": "markdown",
   "metadata": {},
   "source": [
    "## Tabla de valores, frecuencias y probabilidad\n",
    "\n",
    "A continuación construimos una tabla de valores, frecuencias y probabilidades, las frecuencias se utilizan para calcular la probabilidad y de esta forma poder observar más de cerca la distribución y trabajar con ella. "
   ]
  },
  {
   "cell_type": "code",
   "execution_count": null,
   "metadata": {},
   "outputs": [],
   "source": [
    "N_2_frec_prob=pd.DataFrame({'Valores': np.unique(N_2, return_counts=True)[0],\n",
    "                            'Frecuencias':np.unique(N_2, return_counts=True)[1]})\n",
    "N_2_frec_prob['Probabilidad']=N_2_frec_prob['Frecuencias']/len(N_2)\n",
    "\n",
    "N_2_frec_prob"
   ]
  },
  {
   "cell_type": "markdown",
   "metadata": {},
   "source": [
    "La gráfica siguiente es una gráfica de probabilides con su respectiva probabilidad, se comporta de una forma más regular que el histograma de frecuencias."
   ]
  },
  {
   "cell_type": "code",
   "execution_count": null,
   "metadata": {
    "scrolled": true
   },
   "outputs": [],
   "source": [
    "plt.bar(N_2_frec_prob.Valores, N_2_frec_prob.Probabilidad, label='Histograma de probabilidades')\n",
    "plt.xlabel('Número de medicamentos')\n",
    "plt.ylabel('Probabilidad')\n",
    "plt.title('Histograma de probabilides de días en el hospital')\n",
    "plt.legend()\n",
    "plt.show()\n",
    "plt.show()"
   ]
  },
  {
   "cell_type": "markdown",
   "metadata": {},
   "source": [
    "## Kernel density estimation\n",
    "\n",
    "A continuación calcularamos la función de masa de probabilidad (PMF) a partir del método de kernel density estimation, aplicamos la función de statsmodel porque esta permite tomar datos discretos o de diferentes tipos."
   ]
  },
  {
   "cell_type": "code",
   "execution_count": null,
   "metadata": {
    "scrolled": true
   },
   "outputs": [],
   "source": [
    "#definimos el grid sobre el que vamos a trabajar\n",
    "N_2_grid=np.arange(1,82)\n",
    "\n",
    "#aplicamos nuestra función \n",
    "pmf_N2=kde_statsmodels_m(N_2, N_2_grid, bandwidth=0.2)\n",
    "\n",
    "#gráfica\n",
    "plt.bar(N_2_frec_prob.Valores, N_2_frec_prob.Probabilidad, label='Histograma de probabilidades')\n",
    "plt.plot(N_2_grid, pmf_N2, label='PMF estimada', color='g', linewidth=3)\n",
    "plt.xlabel('Número de medicamentos')\n",
    "plt.ylabel('Probabilidad')\n",
    "plt.title('KDE vs Histograma')\n",
    "plt.legend()\n",
    "plt.show()"
   ]
  },
  {
   "cell_type": "markdown",
   "metadata": {},
   "source": [
    "Observamos que la pmf calcualda con el KDE se ajusta perfectamente a nuestros datos y sigue la misma distribución."
   ]
  },
  {
   "cell_type": "markdown",
   "metadata": {},
   "source": [
    "## Método de la transformada inversa para generar números pseudoaleatorios"
   ]
  },
  {
   "cell_type": "markdown",
   "metadata": {},
   "source": [
    "Dado que tenemos una distribución discreta utilizamos el método de la transformada inversa para generar números pseudoaleatorios que se distribuyan como nuestros datos. Para hacer esto calculamos la probabilidad acumulada y después aplicamos el método para N números. "
   ]
  },
  {
   "cell_type": "code",
   "execution_count": null,
   "metadata": {},
   "outputs": [],
   "source": [
    "N_2_frec_prob['Acumulada']=N_2_frec_prob.Probabilidad.cumsum()\n",
    "N_2_frec_prob"
   ]
  },
  {
   "cell_type": "code",
   "execution_count": null,
   "metadata": {
    "scrolled": true
   },
   "outputs": [],
   "source": [
    "N=len(N_2)\n",
    "N_2_u=np.random.rand(N) #generamos valores aleatorios\n",
    "v_N2=Gen_distr_discreta(N_2_u, N_2_frec_prob.Acumulada)+1 #aplicamos función de trasnformada inversa\n",
    "\n",
    "plot_histogram_discrete(v_N2, 'Número de medicamentos', 'Frecuencia', 'Histograma de número de medicamentos') #graficamos"
   ]
  },
  {
   "cell_type": "markdown",
   "metadata": {},
   "source": [
    "Podemos observar a partir del histograma realizado por el método de la transformada inversa que en su forma la distribución de los datos sí es muy similar excepto por los picos. En la gráfica siguiente graficamos ambos datos para observar más fácilmente la diferencia. "
   ]
  },
  {
   "cell_type": "code",
   "execution_count": null,
   "metadata": {
    "scrolled": true
   },
   "outputs": [],
   "source": [
    "plt.figure(figsize=[8,4])\n",
    "y,x = np.histogram(v_N2,bins = len(set(v_N2))) \n",
    "plt.bar(list(set(v_N2)),y, label= 'Números generados')\n",
    "plt.plot(N_2_frec_prob.Valores, N_2_frec_prob.Frecuencias, color='g', lw=2, label='Datos reales')\n",
    "plt.legend()\n",
    "plt.xlabel('Número de medicamentos')\n",
    "plt.ylabel('Frecuencia')\n",
    "plt.title('Números generados vs real')\n",
    "plt.show()"
   ]
  },
  {
   "cell_type": "markdown",
   "metadata": {},
   "source": [
    "A partir de está grafica es fácil ver que los datos generados con el método de la transformada inversa distribuyen de manera similar a los valores reales, sin embargo en este caso tenemos el pico de los números generados, y además los datos reales antes del pico son menores que los valores generados por la función y posterior al pico son mayores. Es posible que estos picos estén generando un movimiento en la distribución y que está se vuelva difícil de estimar por medio de este método."
   ]
  },
  {
   "cell_type": "markdown",
   "metadata": {},
   "source": [
    "## Media y desviación estándar teórica\n",
    "\n",
    "La esperanza de una distribución discreta se calcula con la siguiente fórmula:\n",
    "\n",
    "$$E[X]=\\sum_{j=1}^{m} p_jx_j.$$\n",
    "\n",
    "La varianza de una distribución discreta se calcula con la siguiente fórmula:\n",
    "\n",
    "$$\\sigma_X^2=\\sum_{j=1}^{m} p_j(x_j-E[X])^2.$$"
   ]
  },
  {
   "cell_type": "code",
   "execution_count": null,
   "metadata": {},
   "outputs": [],
   "source": [
    "media_N2= np.sum([N_2_frec_prob.Valores[i]*N_2_frec_prob.Probabilidad[i] \n",
    "               for i in range(len(N_2_frec_prob.Frecuencias))])\n",
    "\n",
    "sigma_N2=np.sqrt(np.sum([N_2_frec_prob.Probabilidad[i]*(N_2_frec_prob.Valores[i] - media_N2)**2\n",
    "               for i in range(len(N_2_frec_prob.Frecuencias))]))\n",
    "\n",
    "print('Media por medio de definición de distribuciones discretas: ', media_N2)\n",
    "print('Desviación estándar por medio de definición de distribuciones discretas: ', sigma_N2)"
   ]
  },
  {
   "cell_type": "markdown",
   "metadata": {},
   "source": [
    "## Montecarlo"
   ]
  },
  {
   "cell_type": "code",
   "execution_count": null,
   "metadata": {},
   "outputs": [],
   "source": [
    "N = len(N_2)\n",
    "u_n2 = np.random.rand(N) #generación de valores aleatorios\n",
    "f_u_n2 = Gen_distr_discreta(u_n2 ,N_2_frec_prob.Acumulada)+1 #función \n",
    "media_montecarlo_N2 = np.mean(f_u_n2)\n",
    "sigma_montecarlo_N2= np.std(f_u_n2)\n",
    "\n",
    "\n",
    "print('Media con Montecarlo: ', media_montecarlo_N2)\n",
    "print('La desviación estándar con el método montecarlo: ', sigma_montecarlo_N2)"
   ]
  },
  {
   "cell_type": "markdown",
   "metadata": {},
   "source": [
    "## Método de reducción de varianza: estratificación"
   ]
  },
  {
   "cell_type": "code",
   "execution_count": null,
   "metadata": {},
   "outputs": [],
   "source": [
    "f_u2_n2= lambda U: Gen_distr_discreta(U, N_2_frec_prob.Acumulada)+1\n",
    "U_n2= estra_igualmente_espaciado(N)\n",
    "valores_estrat_N2= f_u2_n2(U_n2)\n",
    "media_estrat_N2=np.mean(valores_estrat_N2)\n",
    "sigma_estrat_N2=np.std(valores_estrat_N2)\n",
    "\n",
    "print('Media con reducción de varianza estratificada=', media_estrat_N2)\n",
    "print('La desviación estándar con el método de estratificación es: ', sigma_estrat_N2)"
   ]
  },
  {
   "cell_type": "markdown",
   "metadata": {},
   "source": [
    "## Método de reducción de varianza: números complementarios"
   ]
  },
  {
   "cell_type": "code",
   "execution_count": null,
   "metadata": {},
   "outputs": [],
   "source": [
    "ri = np.random.rand(N)\n",
    "ri_c = 1-ri \n",
    "U1= f_u2_n2(ri)\n",
    "U2= f_u2_n2(ri_c)\n",
    "\n",
    "m4 = (U1.mean()+U2.mean())/2\n",
    "\n",
    "print('Complementario =',np.mean(m4))"
   ]
  },
  {
   "cell_type": "markdown",
   "metadata": {},
   "source": [
    "## Estimación de parámetros para distribuciones y método cuantil cuantil\n",
    "\n",
    "Estimaremos los parámetros para distintas distribuciones discretas y posteriormente utilizaremos el método cuantil cuantil para verificar el ajustes de los datos reales a una distribución dada."
   ]
  },
  {
   "cell_type": "markdown",
   "metadata": {},
   "source": [
    "### Binomial\n",
    "\n",
    "Los parámetros de la distribución binomial son n y p y estos los calcularemos a partir de la media y la desviación estándar.\n",
    "\n",
    "- $\\mu= np$\n",
    "- $\\sigma ^2 = np(1-p)$\n",
    "\n",
    "A continuación estimaremos los parámetros para una distribución binomial para el nodo 1, utilizando la media y la varianza calculadas teóricamente. Primero despejamos las ecuacións usando n y p."
   ]
  },
  {
   "cell_type": "code",
   "execution_count": null,
   "metadata": {},
   "outputs": [],
   "source": [
    "def binomial_N2(x: 'Vector de valores para n y p'):\n",
    "    'Esta función se utiliza para conocer los parámetros n y p, dadas miu y sigma'\n",
    "    n=x[0]\n",
    "    p=x[1]\n",
    "    return [media_N2-n*p,\n",
    "            (sigma_N2**2)-n*p*+n*p**2]\n",
    "\n",
    "param_binom_N2=fsolve(binomial_N2, [1,0.6]) #estimación de parámetros\n",
    "n_N2=param_binom[0]; p_N2=param_binom[1]\n",
    "\n",
    "\n",
    "\n",
    "#aplicación del método cuantil cuantil\n",
    "fig = plt.figure()\n",
    "ax = fig.add_subplot(111)\n",
    "res=st.probplot(N_2, dist='binom', sparams=param_binom_N2, plot=ax)\n",
    "plt.show()"
   ]
  },
  {
   "cell_type": "markdown",
   "metadata": {},
   "source": [
    "### Poisson\n",
    "\n",
    "El parámetro específico de la distribución de poisson es lambada, que corresponde a la media de los datos, por lo tanto utilizaremos la media para aplicar el método de cuantil cuantil.\n",
    "\n"
   ]
  },
  {
   "cell_type": "code",
   "execution_count": null,
   "metadata": {},
   "outputs": [],
   "source": [
    "lambda_p_N2= media_N2 #parámetro de la distribución poisson\n",
    "\n",
    "\n",
    "fig = plt.figure()\n",
    "ax = fig.add_subplot(111)\n",
    "res=st.probplot(N_2, dist='poisson', sparams=( lambda_p_N2), plot=ax)\n",
    "plt.show()"
   ]
  },
  {
   "attachments": {
    "image.png": {
     "image/png": "[encoded data removed]"
    }
   },
   "cell_type": "markdown",
   "metadata": {},
   "source": [
    "### Geométrica\n",
    "\n",
    "El parámetro específico de la distribución goemétrica corresponde a p, y este lo podemos estimar diréctamente de la media, con la siguiente igualdad. \n",
    "\n",
    "![image.png](attachment:image.png)\n",
    "\n"
   ]
  },
  {
   "cell_type": "code",
   "execution_count": null,
   "metadata": {},
   "outputs": [],
   "source": [
    "p_geom_N2=1/media_N2 #parámetro p\n",
    "\n",
    "fig = plt.figure()\n",
    "ax = fig.add_subplot(111)\n",
    "res=st.probplot(N_2, dist='geom', sparams=(p_geom_N2), plot=ax)\n",
    "plt.show()"
   ]
  },
  {
   "attachments": {
    "image-2.png": {
     "image/png": "[encoded data removed]"
    },
    "image.png": {
     "image/png": "[encoded data removed]"
    }
   },
   "cell_type": "markdown",
   "metadata": {},
   "source": [
    "### Distribución binomial negativa\n",
    "\n",
    "La distribución binomial depende de los parámetros r y p que se pueden estimar con el siguiente sistema de ecuaciones.\n",
    "![image.png](attachment:image.png)\n",
    "![image-2.png](attachment:image-2.png)"
   ]
  },
  {
   "cell_type": "code",
   "execution_count": null,
   "metadata": {},
   "outputs": [],
   "source": [
    "def nbinom_N2(x: 'Vector de valores para n y p'):\n",
    "    'Esta función se utiliza para conocer los parámetros n y p, dadas miu y sigma'\n",
    "    p=x[0]\n",
    "    r=x[1]\n",
    "    return [media_N2-(p*r)/(1-p),\n",
    "            (sigma_N2**2)-(p*r)/(1-2*p+p**2)]\n",
    "\n",
    "param_nbinom_N2=fsolve(nbinom_N2, [0.6,1])\n",
    "p_binom_N2=param_nbinom_N2[0]; r_N2=param_nbinom_N2[1]\n",
    "\n",
    "\n",
    "fig = plt.figure()\n",
    "ax = fig.add_subplot(111)\n",
    "res=st.probplot(N_2, dist='nbinom', sparams=(r_N2,p_binom_N2), plot=ax)\n",
    "plt.show()"
   ]
  },
  {
   "cell_type": "markdown",
   "metadata": {},
   "source": [
    "A partir de esto podemos determinar que la distribución que mejor se ajusta es la distribución geométrica con los siguientes parámetros:"
   ]
  },
  {
   "cell_type": "code",
   "execution_count": null,
   "metadata": {},
   "outputs": [],
   "source": [
    "print('El parámetro n para la disrtibución geométrica es', p_geom_N2)"
   ]
  },
  {
   "cell_type": "markdown",
   "metadata": {},
   "source": [
    "En la siguiente gráfica mostramos nuestra distribución real junto con la teórica estimada."
   ]
  },
  {
   "cell_type": "code",
   "execution_count": null,
   "metadata": {
    "scrolled": true
   },
   "outputs": [],
   "source": [
    "pmf_geom_N2=getattr(st, 'geom').pmf(N_2_frec_prob.Valores, p_geom_N2)\n",
    "\n",
    "#gráfica\n",
    "plt.bar(N_2_frec_prob.Valores, N_2_frec_prob.Probabilidad, label='Histograma de probabilidades')\n",
    "plt.plot(pmf_geom_N2, label='PMF geométrica', color='g', linewidth=3)\n",
    "plt.xlabel('Número de medicamentos')\n",
    "plt.ylabel('Probabilidad')\n",
    "plt.title('Teórica vs real')\n",
    "plt.legend()\n",
    "plt.show()"
   ]
  },
  {
   "cell_type": "markdown",
   "metadata": {},
   "source": [
    "para el caso del nodo 2 observamos que el uso de una distribución teórica no es bueno, en este caso es mucho mejor usar la pmf calculada con el método de KDE, aunque la transformada inversa no es tan mala, esta no se ajusta de la manera más óptima a nuestros datos"
   ]
  },
  {
   "cell_type": "markdown",
   "metadata": {},
   "source": [
    "## Visualización de los datos del nodo 3: num_lab_procedures"
   ]
  },
  {
   "cell_type": "markdown",
   "metadata": {},
   "source": [
    "Dado que estamos trabajando con distribuciones discretas dibujaremos el histograma correspondienta a variables discretas para observar a grandes rasgos su distribución."
   ]
  },
  {
   "cell_type": "code",
   "execution_count": null,
   "metadata": {},
   "outputs": [],
   "source": [
    "#histograma para el nodo 3\n",
    "plot_histogram_discrete(N_3, 'Estudios de laboratorio en el hospital', 'Frecuencia', 'Histograma de estudios de laboratorio en el hospital')"
   ]
  },
  {
   "cell_type": "markdown",
   "metadata": {},
   "source": [
    "## Tabla de valores, frecuencias y probabilidad\n",
    "A continuación construimos una tabla de valores, frecuencias y probabilidades, las frecuencias se utilizan para calcular la probabilidad y de esta forma poder observar más de cerca la distribución y trabajar con ella.\n"
   ]
  },
  {
   "cell_type": "code",
   "execution_count": null,
   "metadata": {},
   "outputs": [],
   "source": [
    "#creación de dataframe que contiene los valores únicos sus frecuencias y su probabilidad asociada a cada valor.\n",
    "N_3_frec_prob=pd.DataFrame({'Valores': np.unique(N_3, return_counts=True)[0],\n",
    "                            'Frecuencias':np.unique(N_3, return_counts=True)[1]}) \n",
    "N_3_frec_prob['Probabilidad']=N_3_frec_prob['Frecuencias']/len(N_1)\n",
    "\n",
    "N_3_frec_prob"
   ]
  },
  {
   "cell_type": "markdown",
   "metadata": {},
   "source": [
    "La gráfica siguiente es una gráfica de probabilides con su respectiva probabilidad, como era de esperase se comporta de la misma forma que el histograma de frencuencias."
   ]
  },
  {
   "cell_type": "code",
   "execution_count": null,
   "metadata": {},
   "outputs": [],
   "source": [
    "plt.bar(N_3_frec_prob.Valores, N_3_frec_prob.Probabilidad, label='Histograma de probabilidades')\n",
    "plt.xlabel('Estudios de laboratorio en el hospital')\n",
    "plt.ylabel('Probabilidad')\n",
    "plt.title('Histograma de probabilides de estudios de laboratorio en el hospital')\n",
    "plt.legend()\n",
    "plt.show()"
   ]
  },
  {
   "cell_type": "markdown",
   "metadata": {},
   "source": [
    "## Kernel density estimation\n",
    "A continuación calcularamos la función de masa de probabilidad (PMF) a partir del método de kernel density estimation, aplicamos la función de statsmodel porque esta permite tomar datos discretos o de diferentes tipos.\n"
   ]
  },
  {
   "cell_type": "code",
   "execution_count": null,
   "metadata": {},
   "outputs": [],
   "source": [
    "#definimos el grid sobre el que vamos a trabajar\n",
    "N_3_grid=np.arange(0,113)\n",
    "\n",
    "#aplicamos nuestra función \n",
    "pmf_N3=kde_statsmodels_m(N_3, N_3_grid, bandwidth=0.2)\n",
    "\n",
    "#gráfica\n",
    "plt.bar(N_3_frec_prob.Valores, N_3_frec_prob.Probabilidad, label='Histograma de probabilidades')\n",
    "plt.plot(N_3_grid, pmf_N3, label='PMF estimada', color='g', linewidth=3)\n",
    "plt.xlabel('Número de medicamentos')\n",
    "plt.ylabel('Probabilidad')\n",
    "plt.title('KDE vs Histograma')\n",
    "plt.legend()\n",
    "plt.show()"
   ]
  },
  {
   "cell_type": "code",
   "execution_count": null,
   "metadata": {},
   "outputs": [],
   "source": []
  },
  {
   "cell_type": "markdown",
   "metadata": {},
   "source": [
    "## Método de aceptación y rechazo usando KDE"
   ]
  },
  {
   "cell_type": "code",
   "execution_count": null,
   "metadata": {},
   "outputs": [],
   "source": [
    "f_kde_n3=kde_statsmodels_func(N_3)\n",
    "pmf_kde_N3=acep_rechazo_simplificada_dis(len(N_3), (0,113), f_kde_n3, max(pmf_N3))\n",
    "\n",
    "#gráfica\n",
    "plt.figure(figsize=[8,4])\n",
    "y,x = np.histogram(pmf_kde_N3,bins = len(set(pmf_kde_N3))) \n",
    "plt.bar(list(set(pmf_kde_N3)),y, label='PMF simulada')\n",
    "plt.plot(N_3_frec_prob.Valores, N_3_frec_prob.Frecuencias, color='g', lw=2, label='Datos reales')\n",
    "plt.legend()\n",
    "plt.xlabel('Estudios de laboratorio en el hospital')\n",
    "plt.ylabel('Frecuencias')\n",
    "plt.title('Estudios de laboratorio en el hospital PMF simulada vs datos reales')\n",
    "plt.show()"
   ]
  },
  {
   "cell_type": "markdown",
   "metadata": {},
   "source": [
    "## Método de la transformada inversa para generar números pseudoaleatorios\n",
    "Dado que tenemos una distribución discreta utilizamos el método de la transformada inversa para generar números pseudoaleatorios que se distribuyan como nuestros datos. Para hacer esto calculamos la probabilidad acumulada y después aplicamos el método para N números.\n",
    "\n",
    "\n"
   ]
  },
  {
   "cell_type": "code",
   "execution_count": null,
   "metadata": {},
   "outputs": [],
   "source": [
    "#Se añade la probabilidad acumulada\n",
    "N_3_frec_prob['Acumulada']=N_3_frec_prob.Probabilidad.cumsum()\n",
    "N_3_frec_prob"
   ]
  },
  {
   "cell_type": "code",
   "execution_count": null,
   "metadata": {},
   "outputs": [],
   "source": [
    "N=len(N_3) #números a generar\n",
    "N_3_u=np.random.rand(N) #generamos números aleatorios entre 0 y 1\n",
    "v_N3=Gen_distr_discreta(N_3_u, N_3_frec_prob.Acumulada)+1 #aplicamos el método de la transformada inversa\n",
    "\n",
    "plot_histogram_discrete(v_N3, 'Estudios de laboratorio en el hospital', 'Frecuencia', 'Histograma de estudios de laboratorio en el hospital en el hospital (TI)')"
   ]
  },
  {
   "cell_type": "code",
   "execution_count": null,
   "metadata": {},
   "outputs": [],
   "source": []
  },
  {
   "cell_type": "code",
   "execution_count": null,
   "metadata": {},
   "outputs": [],
   "source": [
    "plt.figure(figsize=[8,4])\n",
    "y,x = np.histogram(v_N3,bins = len(set(v_N3))) \n",
    "plt.bar(list(set(v_N3)),y, label= 'Números generados')\n",
    "plt.plot(N_3_frec_prob.Valores, N_3_frec_prob.Frecuencias, color='g', lw=2, label='Datos reales')\n",
    "plt.legend()\n",
    "plt.xlabel('Estudios de laboratorio en el hospital')\n",
    "plt.ylabel('Frecuencia')\n",
    "plt.title('Números generados vs real')\n",
    "plt.show()"
   ]
  },
  {
   "cell_type": "code",
   "execution_count": null,
   "metadata": {},
   "outputs": [],
   "source": []
  },
  {
   "cell_type": "markdown",
   "metadata": {},
   "source": [
    "## Media y desviación estándar teórica\n",
    "La esperanza de una distribución discreta se calcula con la siguiente fórmula:\n",
    "\n",
    "$$E[X]=\\sum_{j=1}^{m} p_jx_j.$$\n",
    "\n",
    "La varianza de una distribución discreta se calcula con la siguiente fórmula:\n",
    "\n",
    "$$\\sigma_X^2=\\sum_{j=1}^{m} p_j(x_j-E[X])^2.$$"
   ]
  },
  {
   "cell_type": "code",
   "execution_count": null,
   "metadata": {},
   "outputs": [],
   "source": [
    "\n",
    "media_N3= np.sum([N_3_frec_prob.Valores[i]*N_3_frec_prob.Probabilidad[i] \n",
    "               for i in range(len(N_3_frec_prob.Frecuencias))])\n",
    "\n",
    "sigma_N3=np.sqrt(np.sum([N_3_frec_prob.Probabilidad[i]*(N_3_frec_prob.Valores[i] - media_N3)**2\n",
    "               for i in range(len(N_3_frec_prob.Frecuencias))]))\n",
    "\n",
    "print('Media por medio de definición de distribuciones discretas: ', media_N3)\n",
    "print('Desviación estándar por medio de definición de distribuciones discretas: ', sigma_N3)"
   ]
  },
  {
   "cell_type": "markdown",
   "metadata": {},
   "source": [
    "## Montecarlo"
   ]
  },
  {
   "cell_type": "code",
   "execution_count": null,
   "metadata": {},
   "outputs": [],
   "source": [
    "\n",
    "N = len(N_3)\n",
    "u1 = np.random.rand(N) #generación de valores aleatorios\n",
    "f_u1 = Gen_distr_discreta(u1,N_3_frec_prob.Acumulada)+1 #función \n",
    "media_montecarlo_N3 = np.mean(f_u1)\n",
    "sigma_montecarlo_N3= np.std(f_u1)\n",
    "\n",
    "confianza=[0.95,0.975, 0.99]\n",
    "\n",
    "intervalos_N3 = st.t.interval(confianza,len(N_3)-1, loc=np.mean(N_3), scale=st.sem(N_3))\n",
    "\n",
    "montecarlo_N3=pd.DataFrame(intervalos_N3)\n",
    "montecarlo_N3.index=['Intervalo superior', 'Intervalo inferior']\n",
    "montecarlo_N3.columns=confianza\n",
    "montecarlo_N3"
   ]
  },
  {
   "cell_type": "markdown",
   "metadata": {},
   "source": [
    "## Método de reducción de varianza: estratificación"
   ]
  },
  {
   "cell_type": "code",
   "execution_count": null,
   "metadata": {},
   "outputs": [],
   "source": [
    "f_u2= lambda U: Gen_distr_discreta(U, N_3_frec_prob.Acumulada)+1\n",
    "U= estra_igualmente_espaciado(N)\n",
    "valores_estrat_N3= f_u2(U)\n",
    "media_estrat_N3=np.mean(valores_estrat_N3)\n",
    "sigma_estrat_N3=np.std(valores_estrat_N3)\n",
    "\n",
    "print('Media con reducción de varianza estratificada=', media_estrat_N3)\n",
    "print('La desviación estándar con el método de estratificación es: ', sigma_estrat_N3)"
   ]
  },
  {
   "cell_type": "markdown",
   "metadata": {},
   "source": [
    "## Método de reducción de varianza: números complementarios"
   ]
  },
  {
   "cell_type": "code",
   "execution_count": null,
   "metadata": {},
   "outputs": [],
   "source": [
    "ri = np.random.rand(N)\n",
    "ri_c = 1-ri \n",
    "U1= f_u2(ri)\n",
    "U2= f_u2(ri_c)\n",
    "\n",
    "m4 = (U1.mean()+U2.mean())/2\n",
    "\n",
    "print('Media por medio del método de números complementarios: ', m4)"
   ]
  },
  {
   "cell_type": "markdown",
   "metadata": {},
   "source": [
    "## Estimación de parámetros para distribuciones y método cuantil cuantil\n",
    "\n",
    "Estimaremos los parámetros para distintas distribuciones discretas y posteriormente utilizaremos el método cuantil cuantil para verificar el ajustes de los datos reales a una distribución dada."
   ]
  },
  {
   "cell_type": "markdown",
   "metadata": {},
   "source": [
    "### Binomial\n",
    "\n",
    "Los parámetros de la distribución binomial son n y p y estos los calcularemos a partir de la media y la desviación estándar.\n",
    "\n",
    "- $\\mu= np$\n",
    "- $\\sigma ^2 = np(1-p)$\n",
    "\n",
    "A continuación estimaremos los parámetros para una distribución binomial para el nodo 1, utilizando la media y la varianza calculadas teóricamente. Primero despejamos las ecuacións usando n y p."
   ]
  },
  {
   "cell_type": "code",
   "execution_count": null,
   "metadata": {},
   "outputs": [],
   "source": [
    "def binomial_N3(x: 'Vector de valores para n y p'):\n",
    "    'Esta función se utiliza para conocer los parámetros n y p, dadas miu y sigma'\n",
    "    n=x[0]\n",
    "    p=x[1]\n",
    "    return [media_N3-n*p,\n",
    "            (sigma_N3**2)-n*p*+n*p**2]\n",
    "\n",
    "param_binom_N3=fsolve(binomial_N3, [1,0.6]) #estimación de parámetros\n",
    "n_N3=param_binom[0]; p_N3=param_binom[1]\n",
    "\n",
    "\n",
    "\n",
    "#aplicación del método cuantil cuantil\n",
    "fig = plt.figure()\n",
    "ax = fig.add_subplot(111)\n",
    "res=st.probplot(N_3, dist='binom', sparams=param_binom_N3, plot=ax)\n",
    "plt.show()"
   ]
  },
  {
   "cell_type": "markdown",
   "metadata": {},
   "source": [
    "### Poisson\n",
    "\n",
    "El parámetro específico de la distribución de poisson es lambada, que corresponde a la media de los datos, por lo tanto utilizaremos la media para aplicar el método de cuantil cuantil \n",
    "\n"
   ]
  },
  {
   "cell_type": "code",
   "execution_count": null,
   "metadata": {},
   "outputs": [],
   "source": [
    "lambda_p_N3= media_N3 #parámetro de la distribución poisson\n",
    "\n",
    "\n",
    "fig = plt.figure()\n",
    "ax = fig.add_subplot(111)\n",
    "res=st.probplot(N_3, dist='poisson', sparams=( lambda_p_N3), plot=ax)\n",
    "plt.show()"
   ]
  },
  {
   "attachments": {
    "image.png": {
     "image/png": "[encoded data removed]"
    }
   },
   "cell_type": "markdown",
   "metadata": {},
   "source": [
    "### Geométrica\n",
    "\n",
    "El parámetro específico de la distribución goemétrica corresponde a p y este lo podemos estimar diréctamente de la media, con la siguiente igualdad. \n",
    "\n",
    "![image.png](attachment:image.png)\n",
    "\n"
   ]
  },
  {
   "cell_type": "code",
   "execution_count": null,
   "metadata": {},
   "outputs": [],
   "source": [
    "p_geom_N3=1/media_N3 #parámetro p\n",
    "\n",
    "fig = plt.figure()\n",
    "ax = fig.add_subplot(111)\n",
    "res=st.probplot(N_3, dist='geom', sparams=(p_geom_N3), plot=ax)\n",
    "plt.show()"
   ]
  },
  {
   "attachments": {
    "image-2.png": {
     "image/png": "[encoded data removed]"
    },
    "image.png": {
     "image/png": "[encoded data removed]"
    }
   },
   "cell_type": "markdown",
   "metadata": {},
   "source": [
    "### Distribución binomial negativa\n",
    "\n",
    "La distribución binomial depende de los parámetros r y p que se pueden estimar con el siguiente sistema de ecuaciones.\n",
    "![image.png](attachment:image.png)\n",
    "![image-2.png](attachment:image-2.png)"
   ]
  },
  {
   "cell_type": "code",
   "execution_count": null,
   "metadata": {},
   "outputs": [],
   "source": [
    "def nbinom_N3(x: 'Vector de valores para n y p'):\n",
    "    'Esta función se utiliza para conocer los parámetros n y p, dadas miu y sigma'\n",
    "    p=x[0]\n",
    "    r=x[1]\n",
    "    return [media_N3-(p*r)/(1-p),\n",
    "            (sigma_N3**2)-(p*r)/(1-2*p+p**2)]\n",
    "\n",
    "param_nbinom_N3=fsolve(nbinom_N3, [0.6,1])\n",
    "p_binom_N3=param_nbinom_N3[0]; r_N3=param_nbinom_N3[1]\n",
    "\n",
    "\n",
    "fig = plt.figure()\n",
    "ax = fig.add_subplot(111)\n",
    "res=st.probplot(N_3, dist='nbinom', sparams=(r_N3,p_binom_N3), plot=ax)\n",
    "plt.show()"
   ]
  },
  {
   "cell_type": "markdown",
   "metadata": {},
   "source": [
    "A partir de esto podemos determinar que la distribución que mejor se ajusta es la distribución geométrica con los siguientes parámetros:"
   ]
  },
  {
   "cell_type": "code",
   "execution_count": null,
   "metadata": {},
   "outputs": [],
   "source": [
    "print('El parámetro n para la disrtibución geométrica es', p_geom_N3)"
   ]
  },
  {
   "cell_type": "markdown",
   "metadata": {},
   "source": [
    "En la siguiente gráfica mostramos nuestra distribución real junto con la teórica estimada."
   ]
  },
  {
   "cell_type": "code",
   "execution_count": null,
   "metadata": {
    "scrolled": true
   },
   "outputs": [],
   "source": [
    "pmf_geom_N3=getattr(st, 'geom').pmf(N_3_frec_prob.Valores, p_geom_N3)\n",
    "\n",
    "#gráfica\n",
    "plt.bar(N_3_frec_prob.Valores, N_3_frec_prob.Probabilidad, label='Histograma de probabilidades')\n",
    "plt.plot(pmf_geom_N3, label='PMF geométrica', color='g', linewidth=3)\n",
    "plt.xlabel('Número de medicamentos')\n",
    "plt.ylabel('Probabilidad')\n",
    "plt.title('Teórica vs real')\n",
    "plt.legend()\n",
    "plt.show()"
   ]
  },
  {
   "cell_type": "markdown",
   "metadata": {},
   "source": []
  },
  {
   "cell_type": "markdown",
   "metadata": {},
   "source": [
    "## Visualización de los datos del nodo 4: num_procedures\n",
    "\n",
    "Dado que estamos trabajando con distribuciones discretas dibujaremos el histograma correspondienta a variables discretas para observar a grandes rasgos su distribución. "
   ]
  },
  {
   "cell_type": "code",
   "execution_count": null,
   "metadata": {
    "scrolled": true
   },
   "outputs": [],
   "source": [
    "#histograma para el nodo 4\n",
    "plot_histogram_discrete(N_4, 'Número de procedimientos médicos', 'Frecuencia', 'Histograma del número de procedimientos médicos en el hospital')"
   ]
  },
  {
   "cell_type": "markdown",
   "metadata": {},
   "source": [
    "## Tabla de valores, frecuencias y probabilidad\n",
    "\n",
    "A continuación construimos una tabla de valores, frecuencias y probabilidades, las frecuencias se utilizan para calcular la probabilidad y de esta forma poder observar más de cerca la distribución y trabajar con ella. "
   ]
  },
  {
   "cell_type": "code",
   "execution_count": null,
   "metadata": {
    "scrolled": true
   },
   "outputs": [],
   "source": [
    "#creación de dataframe que contiene los valores únicos sus frecuencias y su probabilidad asociada a cada valor.\n",
    "N_4_frec_prob=pd.DataFrame({'Valores': np.unique(N_4, return_counts=True)[0],\n",
    "                            'Frecuencias':np.unique(N_4, return_counts=True)[1]}) \n",
    "N_4_frec_prob['Probabilidad']=N_4_frec_prob['Frecuencias']/len(N_4)\n",
    "\n",
    "N_4_frec_prob"
   ]
  },
  {
   "cell_type": "markdown",
   "metadata": {},
   "source": [
    "La gráfica siguiente es una gráfica de probabilides con su respectiva probabilidad, como era de esperase se comporta de la misma forma que el histograma de frencuencias. "
   ]
  },
  {
   "cell_type": "code",
   "execution_count": null,
   "metadata": {
    "scrolled": true
   },
   "outputs": [],
   "source": [
    "plt.bar(N_4_frec_prob.Valores, N_4_frec_prob.Probabilidad, label='Histograma de probabilidades')\n",
    "plt.xlabel('Número de procedimientos médicos')\n",
    "plt.ylabel('Probabilidad')\n",
    "plt.title('Histograma de probabilides del número de procedimientos médicos en el hospital')\n",
    "plt.legend()\n",
    "plt.show()"
   ]
  },
  {
   "cell_type": "markdown",
   "metadata": {},
   "source": [
    "## Kernel density estimation\n",
    "\n",
    "A continuación calcularamos la función de masa de probabilidad (PMF) a partir del método de kernel density estimation, aplicamos la función de statsmodel porque esta permite tomar datos discretos o de diferentes tipos."
   ]
  },
  {
   "cell_type": "code",
   "execution_count": null,
   "metadata": {
    "scrolled": true
   },
   "outputs": [],
   "source": [
    "#definimos el grid sobre el que vamos a trabajar\n",
    "N_4_grid=np.arange(0,6)\n",
    "\n",
    "#aplicamos nuestra función \n",
    "pmf_N4=kde_statsmodels_m(N_4, N_4_grid, bandwidth=0.2)\n",
    "\n",
    "#gráfica\n",
    "plt.bar(N_4_frec_prob.Valores, N_4_frec_prob.Probabilidad, label='Histograma de probabilidades')\n",
    "plt.plot(N_4_grid, pmf_N4, label='PMF estimada', color='g', linewidth=3)\n",
    "plt.xlabel('Número de procedimientos médicos')\n",
    "plt.ylabel('Probabilidad')\n",
    "plt.title('KDE vs Histograma')\n",
    "plt.legend()\n",
    "plt.show()"
   ]
  },
  {
   "cell_type": "markdown",
   "metadata": {},
   "source": [
    "Observamos que la pmf generada por medio del kernerl densitiy estimation es prácticamente perfecta, esto nos sirve para en el futuro poder simular más datos. "
   ]
  },
  {
   "cell_type": "markdown",
   "metadata": {},
   "source": [
    "## Método de aceptación y rechazo usando KDE"
   ]
  },
  {
   "cell_type": "code",
   "execution_count": null,
   "metadata": {},
   "outputs": [],
   "source": [
    "f_kde_n4=kde_statsmodels_func(N_4)\n",
    "pmf_kde_N4=acep_rechazo_simplificada_dis(len(N_4), (0,6), f_kde_n4, max(pmf_N4))\n",
    "\n",
    "#gráfica\n",
    "plt.figure(figsize=[8,4])\n",
    "y,x = np.histogram(pmf_kde_N4,bins = len(set(pmf_kde_N4))) \n",
    "plt.bar(list(set(pmf_kde_N4)),y, label='PMF simulada')\n",
    "plt.plot(N_4_frec_prob.Valores, N_4_frec_prob.Frecuencias, color='g', lw=2, label='Datos reales')\n",
    "plt.legend()\n",
    "plt.xlabel('Número de procedimientos médicos')\n",
    "plt.ylabel('Frecuencias')\n",
    "plt.title('Número de procedimientos médicos PMF simulada vs datos reales')\n",
    "plt.show()"
   ]
  },
  {
   "cell_type": "markdown",
   "metadata": {},
   "source": [
    "## Método de la transformada inversa para generar números pseudoaleatorios"
   ]
  },
  {
   "cell_type": "markdown",
   "metadata": {},
   "source": [
    "Dado que tenemos una distribución discreta utilizamos el método de la transformada inversa para generar números pseudoaleatorios que se distribuyan como nuestros datos. Para hacer esto calculamos la probabilidad acumulada y después aplicamos el método para N números. "
   ]
  },
  {
   "cell_type": "code",
   "execution_count": null,
   "metadata": {},
   "outputs": [],
   "source": [
    "#Se añade la probabilidad acumulada\n",
    "N_4_frec_prob['Acumulada']=N_4_frec_prob.Probabilidad.cumsum()\n",
    "N_4_frec_prob"
   ]
  },
  {
   "cell_type": "code",
   "execution_count": null,
   "metadata": {
    "scrolled": true
   },
   "outputs": [],
   "source": [
    "N=len(N_4) #números a generar\n",
    "N_4_u=np.random.rand(N) #generamos números aleatorios entre 0 y 1\n",
    "v_N4=Gen_distr_discreta(N_4_u, N_4_frec_prob.Acumulada) #aplicamos el método de la transformada inversa\n",
    "\n",
    "plot_histogram_discrete(v_N4, 'Número de procedimientos médicos', 'Frecuencia', 'Histograma del número de procedimientos médicos en el hospital (TI)')"
   ]
  },
  {
   "cell_type": "markdown",
   "metadata": {},
   "source": [
    "Podemos observar a partir del histograma realizado por el método de la transformada inversa que en su forma la distribución de los datos sí es muy similar. En la gráfica siguiente graficamos ambos datos para observar más fácilmente la diferencia. "
   ]
  },
  {
   "cell_type": "code",
   "execution_count": null,
   "metadata": {
    "scrolled": true
   },
   "outputs": [],
   "source": [
    "plt.figure(figsize=[8,4])\n",
    "y,x = np.histogram(v_N4,bins = len(set(v_N4))) \n",
    "plt.bar(list(set(v_N4)),y, label= 'Números generados')\n",
    "plt.plot(N_4_frec_prob.Valores, N_4_frec_prob.Frecuencias, color='g', lw=2, label='Datos reales')\n",
    "plt.legend()\n",
    "plt.xlabel('Número de procedimientos médicos')\n",
    "plt.ylabel('Frecuencia')\n",
    "plt.title('Números generados vs real')\n",
    "plt.show()"
   ]
  },
  {
   "cell_type": "markdown",
   "metadata": {},
   "source": [
    "A partir de está grafica es fácil ver que los datos generados con el método de la transoformada inversa si distribuyen muy similarmente a los valores reales, si bien no es exactamente igual, la forma es casi la misma y son pocos los valores que se salen o que les falta."
   ]
  },
  {
   "cell_type": "markdown",
   "metadata": {},
   "source": [
    "## Media y desviación estándar teórica\n",
    "\n",
    "La esperanza de una distribución discreta se calcula con la siguiente fórmula:\n",
    "\n",
    "$$E[X]=\\sum_{j=1}^{m} p_jx_j.$$\n",
    "\n",
    "La varianza de una distribución discreta se calcula con la siguiente fórmula:\n",
    "\n",
    "$$\\sigma_X^2=\\sum_{j=1}^{m} p_j(x_j-E[X])^2.$$"
   ]
  },
  {
   "cell_type": "code",
   "execution_count": null,
   "metadata": {},
   "outputs": [],
   "source": [
    "media_N4= np.sum([N_4_frec_prob.Valores[i]*N_4_frec_prob.Probabilidad[i] \n",
    "               for i in range(len(N_4_frec_prob.Frecuencias))])\n",
    "\n",
    "sigma_N4=np.sqrt(np.sum([N_4_frec_prob.Probabilidad[i]*(N_4_frec_prob.Valores[i] - media_N4)**2\n",
    "               for i in range(len(N_4_frec_prob.Frecuencias))]))\n",
    "\n",
    "print('Media por medio de definición de distribuciones discretas: ', media_N4)\n",
    "print('Desviación estándar por medio de definición de distribuciones discretas: ', sigma_N4)"
   ]
  },
  {
   "cell_type": "markdown",
   "metadata": {},
   "source": [
    "## Montecarlo"
   ]
  },
  {
   "cell_type": "code",
   "execution_count": null,
   "metadata": {},
   "outputs": [],
   "source": [
    "N = len(N_4)\n",
    "u1 = np.random.rand(N) #generación de valores aleatorios\n",
    "f_u1 = Gen_distr_discreta(u1,N_4_frec_prob.Acumulada)+1 #función \n",
    "media_montecarlo_N1 = np.mean(f_u1)\n",
    "sigma_montecarlo_N1= np.std(f_u1)\n",
    "\n",
    "confianza=[0.95,0.975, 0.99]\n",
    "\n",
    "intervalos_N4 = st.t.interval(confianza,len(N_4)-1, loc=np.mean(N_4), scale=st.sem(N_4))\n",
    "\n",
    "montecarlo_N4=pd.DataFrame(intervalos_N4)\n",
    "montecarlo_N4.index=['Intervalo superior', 'Intervalo inferior']\n",
    "montecarlo_N4.columns=confianza\n",
    "montecarlo_N4"
   ]
  },
  {
   "cell_type": "markdown",
   "metadata": {},
   "source": [
    "## Método de reducción de varianza: estratificación"
   ]
  },
  {
   "cell_type": "code",
   "execution_count": null,
   "metadata": {},
   "outputs": [],
   "source": [
    "f_u2= lambda U: Gen_distr_discreta(U, N_4_frec_prob.Acumulada)+1\n",
    "U= estra_igualmente_espaciado(N)\n",
    "valores_estrat_N4= f_u2(U)\n",
    "media_estrat_N4=np.mean(valores_estrat_N4)\n",
    "sigma_estrat_N4=np.std(valores_estrat_N4)\n",
    "\n",
    "print('Media con reducción de varianza estratificada=', media_estrat_N4)\n",
    "print('La desviación estándar con el método de esratificación es: ', sigma_estrat_N4)"
   ]
  },
  {
   "cell_type": "markdown",
   "metadata": {},
   "source": [
    "## Método de reducción de varianza: números complementarios"
   ]
  },
  {
   "cell_type": "code",
   "execution_count": null,
   "metadata": {},
   "outputs": [],
   "source": [
    "ri = np.random.rand(N)\n",
    "ri_c = 1-ri \n",
    "U1= f_u2(ri)\n",
    "U2= f_u2(ri_c)\n",
    "\n",
    "m4 = (U1.mean()+U2.mean())/2\n",
    "\n",
    "print('Media por medio del método de números Complementario: ', m4)"
   ]
  },
  {
   "cell_type": "markdown",
   "metadata": {},
   "source": [
    "## Estimación de parámetros para distribuciones y método cuantil cuantil\n",
    "\n",
    "Estimaremos los parámetros para distintas distribuciones discretas y posteriormente utilizaremos el método cuantil cuantil para verificar el ajustes de los datos reales a una distribución dada"
   ]
  },
  {
   "cell_type": "markdown",
   "metadata": {},
   "source": [
    "### Binomial\n",
    "\n",
    "Los parámetros de la distribución binomial son n y p, y estos los calcularemos a partir de la media y la desviación estándar.\n",
    "\n",
    "- $\\mu= np$\n",
    "- $\\sigma ^2 = np(1-p)$\n",
    "\n",
    "A continuación estimaremos los parámetros para una distribución binomial para el nodo 1, utilizando la media y la varianza calculadas teóricamente. Primero despejamos las ecuacións usando n y p."
   ]
  },
  {
   "cell_type": "code",
   "execution_count": null,
   "metadata": {},
   "outputs": [],
   "source": [
    "def binomial(x: 'Vector de valores para n y p'):\n",
    "    'Esta función se utiliza para conocer los parámetros n y p, dadas miu y sigma'\n",
    "    n=x[0]\n",
    "    p=x[1]\n",
    "    return [media_N4-n*p,\n",
    "            (sigma_N4**2)-n*p*+n*p**2]\n",
    "\n",
    "param_binom=fsolve(binomial, [1,0.6]) #estimación de parámetros\n",
    "n=param_binom[0]; p=param_binom[1]\n",
    "\n",
    "\n",
    "\n",
    "#aplicación del método cuantil cuantil\n",
    "fig = plt.figure()\n",
    "ax = fig.add_subplot(111)\n",
    "res=st.probplot(N_4, dist='binom', sparams=param_binom, plot=ax)\n",
    "plt.show()"
   ]
  },
  {
   "cell_type": "markdown",
   "metadata": {},
   "source": [
    "### Poisson\n",
    "\n",
    "El parámetro específico de la distribución de poisson es lambada, que corresponde a la media de los datos, por lo tanto utilizaremos la media para aplicar el método de cuantil cuantil \n",
    "\n"
   ]
  },
  {
   "cell_type": "code",
   "execution_count": null,
   "metadata": {
    "scrolled": false
   },
   "outputs": [],
   "source": [
    "lambda_p= media_N4 #parámetro de la distribución poisson\n",
    "\n",
    "\n",
    "fig = plt.figure()\n",
    "ax = fig.add_subplot(111)\n",
    "res=st.probplot(N_4, dist='poisson', sparams=( lambda_p), plot=ax)\n",
    "plt.show()"
   ]
  },
  {
   "attachments": {
    "image.png": {
     "image/png": "[encoded data removed]"
    }
   },
   "cell_type": "markdown",
   "metadata": {},
   "source": [
    "### Geométrica\n",
    "\n",
    "El parámetro específico de la distribución goemétrica corresponde a p, y este lo podemos estimar diréctamente de la media, con la siguiente igualdad. \n",
    "\n",
    "![image.png](attachment:image.png)\n",
    "\n"
   ]
  },
  {
   "cell_type": "code",
   "execution_count": null,
   "metadata": {},
   "outputs": [],
   "source": [
    "p_geom=1/media_N4 #parámetro p\n",
    "\n",
    "fig = plt.figure()\n",
    "ax = fig.add_subplot(111)\n",
    "res=st.probplot(N_4, dist='geom', sparams=(p_geom), plot=ax)\n",
    "plt.show()"
   ]
  },
  {
   "attachments": {
    "image-2.png": {
     "image/png": "[encoded data removed]"
    },
    "image.png": {
     "image/png": "[encoded data removed]"
    }
   },
   "cell_type": "markdown",
   "metadata": {},
   "source": [
    "### Distribución binomial negativa\n",
    "\n",
    "La distribución binomial depende de los parámetros r y p que se pueden estimar con el siguiente sistema de ecuaciones.\n",
    "![image.png](attachment:image.png)\n",
    "![image-2.png](attachment:image-2.png)"
   ]
  },
  {
   "cell_type": "code",
   "execution_count": null,
   "metadata": {
    "scrolled": true
   },
   "outputs": [],
   "source": [
    "def nbinom(x: 'Vector de valores para n y p'):\n",
    "    'Esta función se utiliza para conocer los parámetros n y p, dadas miu y sigma'\n",
    "    p=x[0]\n",
    "    r=x[1]\n",
    "    return [media_N4-(p*r)/(1-p),\n",
    "            (sigma_N4**2)-(p*r)/(1-2*p+p**2)]\n",
    "\n",
    "param_nbinom=fsolve(nbinom, [0.6,1])\n",
    "p_binom=param_nbinom[0]; r=param_nbinom[1]\n",
    "\n",
    "\n",
    "fig = plt.figure()\n",
    "ax = fig.add_subplot(111)\n",
    "res=st.probplot(N_4, dist='nbinom', sparams=(r,p_binom), plot=ax)\n",
    "plt.show()"
   ]
  },
  {
   "cell_type": "markdown",
   "metadata": {},
   "source": [
    "A partir de esto podemos determinar que la distribución que mejor se ajusta es la distribución binomial con los siguientes parámetros"
   ]
  },
  {
   "cell_type": "code",
   "execution_count": null,
   "metadata": {},
   "outputs": [],
   "source": [
    "print('El parámetro n para la disrtibución binomial es', n)\n",
    "print('El parámetro p para la distribución binomial es', p)"
   ]
  },
  {
   "cell_type": "markdown",
   "metadata": {},
   "source": [
    "En la siguiente gráfica mostramos nuestra distribución real junto con la teórica estimada."
   ]
  },
  {
   "cell_type": "code",
   "execution_count": null,
   "metadata": {
    "scrolled": false
   },
   "outputs": [],
   "source": [
    "pmf_binom_N4=getattr(st, 'binom').pmf(N_4_frec_prob.Valores, n,p)\n",
    "\n",
    "#gráfica\n",
    "plt.bar(N_4_frec_prob.Valores, N_4_frec_prob.Probabilidad, label='Histograma de probabilidades')\n",
    "plt.plot(pmf_binom_N4, label='PMF binomial', color='g', linewidth=3)\n",
    "plt.xlabel('Días en el hospital')\n",
    "plt.ylabel('Probabilidad')\n",
    "plt.title('Teórica vs real')\n",
    "plt.legend()\n",
    "plt.show()"
   ]
  },
  {
   "cell_type": "code",
   "execution_count": null,
   "metadata": {},
   "outputs": [],
   "source": []
  },
  {
   "cell_type": "code",
   "execution_count": null,
   "metadata": {},
   "outputs": [],
   "source": []
  },
  {
   "cell_type": "markdown",
   "metadata": {},
   "source": [
    "## Prueba de hipotesis: correlación de Kendall Tau, medicamentos y tiempo en el hospital\n",
    "$$ H_0: tau_{XY}=0$$\n",
    "$$ H_a: tau_{XY}\\neq0$$\n",
    "\n",
    "Establecemos un nivel de significancia del 5% para esta prueba."
   ]
  },
  {
   "cell_type": "code",
   "execution_count": null,
   "metadata": {},
   "outputs": [],
   "source": [
    "tiempo = N_1\n",
    "med = N_2\n",
    "\n",
    "#aplicar inidce de correlación de kendall \n",
    "corr = st.kendalltau(tiempo, med, method ='asymptotic')\n",
    "\n",
    "Rxy=corr[0]\n",
    "\n",
    "# Cálculo del p-value \n",
    "T = Rxy * np.sqrt((N - 2) / (1 - Rxy**2))\n",
    "p_val = st.t.pdf(T, df=N-2)\n",
    "\n",
    "print('El p-value de esta prueba es de : ',p_val)\n",
    "print('EL coeficiente de correlación de Kendall tau es de : ',Rxy)\n"
   ]
  },
  {
   "cell_type": "markdown",
   "metadata": {},
   "source": [
    "Dado que el p-value es un valor tan pequeño rechazamos la hipótesis nula y decimos entonces que la correlación de tau es diferente de 0 por lo tanto existe un grado de correlación entre las variables."
   ]
  },
  {
   "cell_type": "markdown",
   "metadata": {},
   "source": [
    "## Prueba de hipotesis: Chi cuadrada para población (Hombres y mujeres)\n",
    "\n",
    "- $H_0$: $P_m = P_F$\n",
    "- $H_1$: $P_m, P_F$\n",
    "\n",
    "Usaremos un nivel de significancia del 5% para está prueba. "
   ]
  },
  {
   "cell_type": "code",
   "execution_count": null,
   "metadata": {},
   "outputs": [],
   "source": [
    "#Selección de los datos\n",
    "data2=pd.read_csv(\"data\")\n",
    "\n",
    "columnas=['Unnamed: 0','number_outpatient', 'number_emergency', 'number_inpatient', 'number_diagnoses',\n",
    "          'race_Caucasian', 'race_AfricanAmerican', 'age_[70-80)', 'age_[60-70)', 'age_[50-60)', 'age_[80-90)',\n",
    "          'age_[40-50)', 'payer_code_?', 'payer_code_MC', 'payer_code_HM',\n",
    "          'payer_code_SP', 'payer_code_BC', 'medical_specialty_?',\n",
    "          'medical_specialty_InternalMedicine','medical_specialty_Emergency/Trauma',\n",
    "          'medical_specialty_Family/GeneralPractice', 'medical_specialty_Cardiology', 'diag_1_428', 'diag_1_414',\n",
    "          'diag_1_786', 'diag_2_276', 'diag_2_428', 'diag_2_250', 'diag_2_427',\n",
    "          'diag_3_250', 'diag_3_401', 'diag_3_276', 'diag_3_428', \n",
    "          'max_glu_serum_None', 'A1Cresult_None', 'metformin_No',\n",
    "          'repaglinide_No', 'nateglinide_No', 'chlorpropamide_No',\n",
    "          'glimepiride_No', 'acetohexamide_No', 'glipizide_No', 'glyburide_No',\n",
    "          'tolbutamide_No', 'pioglitazone_No', 'rosiglitazone_No', 'acarbose_No',\n",
    "          'miglitol_No', 'troglitazone_No', 'tolazamide_No', 'examide_No',\n",
    "          'citoglipton_No', 'insulin_No', 'glyburide-metformin_No',\n",
    "          'glipizide-metformin_No', 'glimepiride-pioglitazone_No',\n",
    "          'metformin-rosiglitazone_No', 'metformin-pioglitazone_No', 'change_No','diabetesMed_Yes',\"time_in_hospital\",\n",
    "          \"num_procedures\",\"num_medications\",\"num_lab_procedures\"]\n",
    "data2.drop(columnas, axis=1, inplace=True)\n",
    "data2.head()\n",
    "\n"
   ]
  },
  {
   "cell_type": "code",
   "execution_count": null,
   "metadata": {},
   "outputs": [],
   "source": [
    "H2 = pd.DataFrame({'Sexo Femenino':data2.gender_Female, \"Readmision\" : data2.readmitted2})\n",
    "H2.loc[H2['Readmision'] > 1, 'Readmision'] = 1\n",
    "H2.loc[H2['Sexo Femenino'] == True, 'Sexo Femenino'] = 1\n",
    "H2.loc[H2['Sexo Femenino'] == False, 'Sexo Femenino'] = 0\n",
    "H2"
   ]
  },
  {
   "cell_type": "code",
   "execution_count": null,
   "metadata": {},
   "outputs": [],
   "source": [
    "# Solamente los readmitidos\n",
    "H2R= H2[H2['Readmision']!=0]\n",
    "# Solamente los no readmitidos\n",
    "H2NR = H2[H2['Readmision']==0]\n",
    "\n",
    "# Conteo\n",
    "x = np.count_nonzero(H2R['Sexo Femenino'])\n",
    "x2 = len(H2R)-np.count_nonzero(H2R['Sexo Femenino'])\n",
    "y = np.count_nonzero(H2NR['Sexo Femenino'])\n",
    "y2 = len(H2NR)-np.count_nonzero(H2NR['Sexo Femenino'])"
   ]
  },
  {
   "cell_type": "code",
   "execution_count": null,
   "metadata": {},
   "outputs": [],
   "source": [
    "H3 = pd.DataFrame(index=['Femenino','Masculino','TOTAL'],columns=['Readmitido','No Readmitido','total'])\n",
    "H3.iloc[0,:-1] = [x,x2]\n",
    "H3.iloc[1,:-1] = [y,y2]\n",
    "H3['total'] = H3.sum(axis=1)\n",
    "H3.loc['TOTAL',:] = H3.sum(axis=0)\n",
    "H3\n"
   ]
  },
  {
   "cell_type": "code",
   "execution_count": null,
   "metadata": {
    "scrolled": true
   },
   "outputs": [],
   "source": [
    "P = H3.iloc[0,2]/H3.iloc[-1,-1]\n",
    "\n",
    "\n",
    "\n",
    "f_o = H3.loc[H3.index!='TOTAL',H3.columns!='total'].values.flatten()\n",
    "f_e = np.concatenate([H3.iloc[-1,:-1]*P,H3.iloc[-1,:-1]*(1-P)])\n",
    "\n",
    "x2 = st.chisquare(f_o , f_e, ddof=2)\n",
    "print('Valor de chi cuadrado = ',list(x2)[0],',p-value de la prueba=',list(x2)[1])\n",
    "\n",
    "Ji = st.chi2.ppf(q = 0.95, df=2)\n",
    "print('Estadístico de Ji = ',Ji)"
   ]
  },
  {
   "cell_type": "markdown",
   "metadata": {},
   "source": [
    "Dado que el p-value es más pequeño que nuestro nivel de confianza entonces rechazamos la hipótesis nula y decimos que las poblaciones de hombres y mujeres son distintas."
   ]
  },
  {
   "cell_type": "markdown",
   "metadata": {},
   "source": [
    "# Conclusiones\n",
    "\n",
    "## Conclusiones generales\n",
    "\n",
    "A partir de las pruebas de hipótesis observamos dos cosas importantes, la primera es que comprobamos que existe una correlación entre el tiempo en el hospital y el número de medicamentos esto va  en línea con un razón lógica ya que si los pacientes están más tiempo en el hospital, por lo tanto podrán tomar mucho más medicamento que aquellos que solo duran un día por ejemplo. \n",
    "\n",
    "\n",
    "## Conclusiones específicas por nodo \n",
    "\n",
    "### Nodo 1\n",
    "\n",
    "El nodo 1 que corresponde al tiempo en el hospital se puede modelar con una distribución binomial, aunque esta no es muy exacta conviene modelarla con el método de la transformada inversa o el KDE. Además observamos que la media se ubica en 4.58 es decir de los pacientes que son readmitidos están en promedio 4-5 días en el hospital poder simular esta distribución nos dice con que probabilidad el paciente va a estar en el hospital n número de días sabiendo que será readmitido. \n",
    "\n",
    "### Nodo 2\n",
    "\n",
    "El nodo 2 que corresponde al número de medicamentos en el hospital se puede modelar teóricamente con una distribución geométrica, sin embargo en su forma gráfica los datos no son nada similares. La media de los medicamentos se ubica en 16-17 es decir que de los pacientes que son readmitidos en promedio reciben 16-17 medicamentos. Simular estos datos nos permite conocer la probilidad de cuantos medicamentos va a recibir el paciente sabiendo que será readmitido en el futuro. \n",
    "\n"
   ]
  },
  {
   "cell_type": "markdown",
   "metadata": {},
   "source": [
    "# Referencias.\n",
    "> Humberto Brandão. (2017). Diabetes 130 US hospitals for years 1999-2008. 02-10-2020, de Kaggle Sitio web: https://www.kaggle.com/brandao/diabetes?select=diabetic_data.csv\n",
    "\n",
    ">The SciPy community. (2020). Statistical Functions. 05-10-2020, de The SciPy community Sitio web: https://docs.scipy.org/doc/scipy/reference/stats.html\n",
    "\n",
    ">John Hunter, Darren Dale, Eric Firing, Michael Droettboom and the Matplotlib development team. (2012). API Overview matplotlib.pyplot. 08-11-2020, de The Matplotlib development team Sitio web: https://matplotlib.org/3.3.2/api/_as_gen/matplotlib.pyplot.html\n",
    "\n",
    "> Seabold, Skipper, and Josef Perktold. “statsmodels: Econometric and statistical modeling with python.” Proceedings of the 9th Python in Science Conference. 2010.\n"
   ]
  },
  {
   "cell_type": "markdown",
   "metadata": {},
   "source": [
    "<script>\n",
    "  $(document).ready(function(){\n",
    "    $('div.prompt').hide();\n",
    "    $('div.back-to-top').hide();\n",
    "    $('nav#menubar').hide();\n",
    "    $('.breadcrumb').hide();\n",
    "    $('.hidden-print').hide();\n",
    "  });\n",
    "</script>\n",
    "\n",
    "<footer id=\"attribution\" style=\"float:right; color:#808080; background:#fff;\">\n",
    "Created with Jupyter by Renatta Garcia Sanchez and Alejandro Michel Marrón.\n",
    "</footer>"
   ]
  }
 ],
 "metadata": {
  "kernelspec": {
   "display_name": "Python 3",
   "language": "python",
   "name": "python3"
  },
  "language_info": {
   "codemirror_mode": {
    "name": "ipython",
    "version": 3
   },
   "file_extension": ".py",
   "mimetype": "text/x-python",
   "name": "python",
   "nbconvert_exporter": "python",
   "pygments_lexer": "ipython3",
   "version": "3.7.7"
  }
 },
 "nbformat": 4,
 "nbformat_minor": 4
}
